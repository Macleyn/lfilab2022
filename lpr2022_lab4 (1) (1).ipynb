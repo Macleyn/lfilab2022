{
  "metadata": {
    "kernelspec": {
      "name": "python",
      "display_name": "Python (Pyodide)",
      "language": "python"
    },
    "language_info": {
      "codemirror_mode": {
        "name": "python",
        "version": 3
      },
      "file_extension": ".py",
      "mimetype": "text/x-python",
      "name": "python",
      "nbconvert_exporter": "python",
      "pygments_lexer": "ipython3",
      "version": "3.8"
    }
  },
  "nbformat_minor": 4,
  "nbformat": 4,
  "cells": [
    {
      "cell_type": "markdown",
      "source": "# Библиотека numpy",
      "metadata": {}
    },
    {
      "cell_type": "markdown",
      "source": "**NumPy** — это библиотека языка Python, добавляющая поддержку больших многомерных массивов и матриц, вместе с большой библиотекой высокоуровневых (и очень быстрых) математических функций для операций с этими массивами.",
      "metadata": {}
    },
    {
      "cell_type": "markdown",
      "source": "Основным объектом NumPy является однородный многомерный массив (в numpy называется numpy.ndarray). Это многомерный массив элементов (обычно чисел), одного типа.\n\nНаиболее важные атрибуты объектов ndarray:\n\n**ndarray.ndim** - число измерений (чаще их называют \"оси\") массива.\n\n**ndarray.shape** - размеры массива, его форма. Это кортеж натуральных чисел, показывающий длину массива по каждой оси. Для матрицы из n строк и m столбов, shape будет (n,m). Число элементов кортежа shape равно ndim.\n\n**ndarray.size** - количество элементов массива. Очевидно, равно произведению всех элементов атрибута shape.\n\n**ndarray.dtype** - объект, описывающий тип элементов массива. Можно определить dtype, используя стандартные типы данных Python. NumPy здесь предоставляет целый букет возможностей, как встроенных, например: bool_, character, int8, int16, int32, int64, float8, float16, float32, float64, complex64, object_, так и возможность определить собственные типы данных, в том числе и составные.\n\n**ndarray.itemsize** - размер каждого элемента массива в байтах.",
      "metadata": {}
    },
    {
      "cell_type": "markdown",
      "source": "# Создание массивов",
      "metadata": {}
    },
    {
      "cell_type": "markdown",
      "source": "В NumPy существует много способов создать массив. Один из наиболее простых - создать массив из обычных списков или кортежей Python, используя функцию numpy.array() (запомните: array - функция, создающая объект типа ndarray):",
      "metadata": {}
    },
    {
      "cell_type": "code",
      "source": "import numpy as np\n\na = np.array([1, 2, 3])\na",
      "metadata": {},
      "execution_count": 1,
      "outputs": [
        {
          "execution_count": 1,
          "output_type": "execute_result",
          "data": {
            "text/plain": [
              "array([1, 2, 3])"
            ]
          },
          "metadata": {}
        }
      ]
    },
    {
      "cell_type": "code",
      "source": "type(a)",
      "metadata": {},
      "execution_count": null,
      "outputs": []
    },
    {
      "cell_type": "markdown",
      "source": "Функция array() трансформирует вложенные последовательности в многомерные массивы. Тип элементов массива зависит от типа элементов исходной последовательности (но можно и переопределить его в момент создания).",
      "metadata": {}
    },
    {
      "cell_type": "code",
      "source": "b = np.array([[1.5, 2, 3], [4, 5, 6]])\nb",
      "metadata": {},
      "execution_count": null,
      "outputs": []
    },
    {
      "cell_type": "markdown",
      "source": "Можно также переопределить тип в момент создания:",
      "metadata": {}
    },
    {
      "cell_type": "code",
      "source": "b = np.array([[1.5, 2, 3], [4, 5, 6]], dtype=np.complex)\nb",
      "metadata": {},
      "execution_count": null,
      "outputs": []
    },
    {
      "cell_type": "markdown",
      "source": "Функция array() не единственная функция для создания массивов. Обычно элементы массива вначале неизвестны, а массив, в котором они будут храниться, уже нужен. Поэтому имеется несколько функций для того, чтобы создавать массивы с каким-то исходным содержимым (по умолчанию тип создаваемого массива — float64).\n\nФункция zeros() создает массив из нулей, а функция ones() — массив из единиц. Обе функции принимают кортеж с размерами, и аргумент dtype:",
      "metadata": {}
    },
    {
      "cell_type": "code",
      "source": "a = np.zeros((3, 5))\na",
      "metadata": {},
      "execution_count": null,
      "outputs": []
    },
    {
      "cell_type": "code",
      "source": "a = np.ones((2, 2, 2))\na",
      "metadata": {},
      "execution_count": null,
      "outputs": []
    },
    {
      "cell_type": "markdown",
      "source": "Функция eye() создаёт единичную матрицу (двумерный массив)",
      "metadata": {}
    },
    {
      "cell_type": "code",
      "source": "a = np.eye(5)\na",
      "metadata": {},
      "execution_count": null,
      "outputs": []
    },
    {
      "cell_type": "markdown",
      "source": "Функция empty() создает массив без его заполнения. Исходное содержимое случайно и зависит от состояния памяти на момент создания массива (то есть от того мусора, что в ней хранится):",
      "metadata": {}
    },
    {
      "cell_type": "code",
      "source": "a = np.empty((3, 3))\na",
      "metadata": {},
      "execution_count": null,
      "outputs": []
    },
    {
      "cell_type": "markdown",
      "source": "Для создания последовательностей чисел, в NumPy имеется функция arange(), аналогичная встроенной в Python range(), только вместо списков она возвращает массивы, и принимает не только целые значения:",
      "metadata": {}
    },
    {
      "cell_type": "code",
      "source": "a = np.arange(10, 30, 5)\na",
      "metadata": {},
      "execution_count": null,
      "outputs": []
    },
    {
      "cell_type": "code",
      "source": "a = np.arange(0, 1, 0.1)\na",
      "metadata": {},
      "execution_count": null,
      "outputs": []
    },
    {
      "cell_type": "markdown",
      "source": "Вообще, при использовании arange() с аргументами типа float, сложно быть уверенным в том, сколько элементов будет получено (из-за ограничения точности чисел с плавающей запятой). Поэтому, в таких случаях обычно лучше использовать функцию linspace(), которая вместо шага в качестве одного из аргументов принимает число, равное количеству нужных элементов:",
      "metadata": {}
    },
    {
      "cell_type": "code",
      "source": "a = np.linspace(0, 2, 9)  # 9 чисел от 0 до 2 включительно\na",
      "metadata": {},
      "execution_count": null,
      "outputs": []
    },
    {
      "cell_type": "markdown",
      "source": "# Изменение формы массивов",
      "metadata": {}
    },
    {
      "cell_type": "markdown",
      "source": "Предположим, у нас имеется массив, состоящий из десяти чисел: ",
      "metadata": {}
    },
    {
      "cell_type": "code",
      "source": "a = np.arange(10)\na",
      "metadata": {},
      "execution_count": null,
      "outputs": []
    },
    {
      "cell_type": "markdown",
      "source": "Для изменения формы этого массива, достаточно указать свойству shape кортеж с новыми размерами, например, так: ",
      "metadata": {}
    },
    {
      "cell_type": "code",
      "source": "a.shape = 2, 5\na",
      "metadata": {},
      "execution_count": null,
      "outputs": []
    },
    {
      "cell_type": "markdown",
      "source": "В результате изменится представление массива, на которое ссылается переменная a. Если же требуется создать новое представление массива, сохранив прежнее, то следует воспользоваться методом reshape(): ",
      "metadata": {}
    },
    {
      "cell_type": "markdown",
      "source": "b = a.reshape(10)\nb",
      "metadata": {}
    },
    {
      "cell_type": "markdown",
      "source": "Cсылки b и a будут использовать одни и те же данные, то есть, изменение массива через b: ",
      "metadata": {}
    },
    {
      "cell_type": "code",
      "source": "b[0] = -1 # приведет к изменению соответствующего элемента массива a: ",
      "metadata": {},
      "execution_count": null,
      "outputs": []
    },
    {
      "cell_type": "markdown",
      "source": "У свойства shape и метода reshape() размерность должна охватывать все элементы массива. Например, вот такая команда: ",
      "metadata": {}
    },
    {
      "cell_type": "code",
      "source": "a.shape = 3, 3",
      "metadata": {},
      "execution_count": null,
      "outputs": []
    },
    {
      "cell_type": "markdown",
      "source": "приведет к ошибке, т.к. размерность 3x3 = 9 элементов, а в массиве 10 элементов. Здесь всегда должно выполняться равенство:\n\nn1 x n2 x … x nN = число элементов массива ",
      "metadata": {}
    },
    {
      "cell_type": "markdown",
      "source": "Но допускается делать так: ",
      "metadata": {}
    },
    {
      "cell_type": "code",
      "source": "a.shape = -1, 2\na",
      "metadata": {},
      "execution_count": null,
      "outputs": []
    },
    {
      "cell_type": "markdown",
      "source": "Отрицательное значение -1 означает автоматическое вычисление размерности по первой оси. По второй берется значение 2. В этом случае получим размерность 5x2.\n\nТо же самое можно делать и в методе reshape(): ",
      "metadata": {}
    },
    {
      "cell_type": "code",
      "source": "b.reshape(-1, 1)\nprint(b)\nb.reshape(1, -1)\nprint(b)",
      "metadata": {},
      "execution_count": null,
      "outputs": []
    },
    {
      "cell_type": "markdown",
      "source": "Используя отрицательный индекс, можно делать и такие преобразования: ",
      "metadata": {}
    },
    {
      "cell_type": "code",
      "source": "b.reshape(2, -1)\nprint(b)\nb.reshape(-1, 2)\nprint(b)",
      "metadata": {},
      "execution_count": null,
      "outputs": []
    },
    {
      "cell_type": "markdown",
      "source": "Если нам требуется многомерный массив преобразовать в обычный одномерный, то можно воспользоваться методом ravel(), который возвращает новое представление, не меняя текущего: ",
      "metadata": {}
    },
    {
      "cell_type": "code",
      "source": "c = b.ravel() # с ссылается на одномерное представление массива\nc",
      "metadata": {},
      "execution_count": null,
      "outputs": []
    },
    {
      "cell_type": "markdown",
      "source": "Если же нам нужно текущий массив преобразовать в одномерный, то это можно сделать так: ",
      "metadata": {}
    },
    {
      "cell_type": "code",
      "source": "b.shape = -1",
      "metadata": {},
      "execution_count": null,
      "outputs": []
    },
    {
      "cell_type": "markdown",
      "source": "Помимо свойства shape можно использовать метод resize, который выполняет подобную операцию с текущим массивом. Например: ",
      "metadata": {}
    },
    {
      "cell_type": "code",
      "source": "a.resize(2, 5) # массив 2x5",
      "metadata": {},
      "execution_count": null,
      "outputs": []
    },
    {
      "cell_type": "markdown",
      "source": "Но, как мы уже говорили, вот такая строчка приведет к ошибке: ",
      "metadata": {}
    },
    {
      "cell_type": "code",
      "source": "a.resize(3, 3)  # ошибка: 3x3 != 10",
      "metadata": {},
      "execution_count": null,
      "outputs": []
    },
    {
      "cell_type": "markdown",
      "source": "# Транспонирование матриц и векторов",
      "metadata": {}
    },
    {
      "cell_type": "markdown",
      "source": "Очень часто в математических операциях требуется выполнять транспонирование матриц и векторов, то есть, заменять строки на столбцы. Например, если имеется матрица (двумерный массив): ",
      "metadata": {}
    },
    {
      "cell_type": "code",
      "source": "a = np.array([(1, 2, 3), (1, 4, 9), (1, 8, 27)])\na",
      "metadata": {},
      "execution_count": null,
      "outputs": []
    },
    {
      "cell_type": "markdown",
      "source": "то операция транспонирования может быть реализована так: ",
      "metadata": {}
    },
    {
      "cell_type": "code",
      "source": "b = a.T\nb",
      "metadata": {},
      "execution_count": null,
      "outputs": []
    },
    {
      "cell_type": "markdown",
      "source": "Обратите внимание, мы здесь создаем лишь новое представление тех же самых данных массива a. И изменение элементов в массиве b: ",
      "metadata": {}
    },
    {
      "cell_type": "code",
      "source": "b[0, 1] = 10",
      "metadata": {},
      "execution_count": null,
      "outputs": []
    },
    {
      "cell_type": "markdown",
      "source": "приведет к соответствующему изменению значения элемента и массива a. Это следует помнить, используя операцию транспонирования.\n\nТранспонирование векторов работает несколько иначе. Предположим, имеется одномерный массив: ",
      "metadata": {}
    },
    {
      "cell_type": "code",
      "source": "x = np.arange(1, 10)\nx",
      "metadata": {},
      "execution_count": null,
      "outputs": []
    },
    {
      "cell_type": "markdown",
      "source": "и мы выполняем операцию транспонирования: ",
      "metadata": {}
    },
    {
      "cell_type": "code",
      "source": "x.T\nx",
      "metadata": {},
      "execution_count": null,
      "outputs": []
    },
    {
      "cell_type": "markdown",
      "source": "В результате ничего не изменилось: вектор как был строкой, так строкой и остался. Почему? Дело в том, что массив x имеет только одну размерность, поэтому здесь нет понятия строк и столбцов. Соответственно, операция транспонирования ни к чему не приводит. Чтобы получить ожидаемый эффект, нужно добавить к массиву еще одну ось, например, так: ",
      "metadata": {}
    },
    {
      "cell_type": "code",
      "source": "x.shape = 1, -1",
      "metadata": {},
      "execution_count": null,
      "outputs": []
    },
    {
      "cell_type": "markdown",
      "source": "И теперь, при транспонировании получим вектор-столбец: ",
      "metadata": {}
    },
    {
      "cell_type": "code",
      "source": "print(x.T)\nprint(x)",
      "metadata": {},
      "execution_count": null,
      "outputs": []
    },
    {
      "cell_type": "markdown",
      "source": "# Операции с индексами",
      "metadata": {}
    },
    {
      "cell_type": "markdown",
      "source": "Оперативная память компьютера линейна, и поэтому даже многомерные массивы, на самом деле являются некоторыми линейными структурами, над которыми существуют система индексов, говорящих как именно читать этот линейный блок. Проведение операций над индексами в большистве случаев эффективно и поэтому операции смены размерности массива или транспонирования выполняются быстро",
      "metadata": {}
    },
    {
      "cell_type": "code",
      "source": "import numpy as np\n\na = np.asarray([[1,2], [3,4]])\nb = a.T # Транспонированый массив\nprint(b)",
      "metadata": {},
      "execution_count": 2,
      "outputs": [
        {
          "name": "stdout",
          "output_type": "stream",
          "text": "[[1 3]\n\n [2 4]]\n"
        }
      ]
    },
    {
      "cell_type": "code",
      "source": "b[0,0] = 10\nprint(b)",
      "metadata": {},
      "execution_count": 3,
      "outputs": [
        {
          "name": "stdout",
          "output_type": "stream",
          "text": "[[10  3]\n\n [ 2  4]]\n"
        }
      ]
    },
    {
      "cell_type": "code",
      "source": "print(a)",
      "metadata": {},
      "execution_count": null,
      "outputs": []
    },
    {
      "cell_type": "code",
      "source": "b[0][0] = 11\nb",
      "metadata": {},
      "execution_count": 4,
      "outputs": [
        {
          "execution_count": 4,
          "output_type": "execute_result",
          "data": {
            "text/plain": [
              "array([[11,  3],\n",
              "       [ 2,  4]])"
            ]
          },
          "metadata": {}
        }
      ]
    },
    {
      "cell_type": "markdown",
      "source": "Как мы видим при изменени переменной b изменилась переменная a. Это произошло потому, что обе эти переменные использубют один и тот же кусок памяти, но по разному.",
      "metadata": {}
    },
    {
      "cell_type": "markdown",
      "source": "# Добавление и удаление осей",
      "metadata": {}
    },
    {
      "cell_type": "markdown",
      "source": "Часто при работе с массивами NumPy требуется добавлять новые оси измерений и удалять существующие. Есть множество способов выполнять эти операции, но мы рассмотрим два наиболее распространенных с помощью функций:\n\n    np.expand_dims(a, axis) – добавление новой оси;\n    np.squeeze(a[, axis]) – удаление оси (без удаления элементов). \n\nДавайте предположим, что у нас имеется некий многомерный массив: ",
      "metadata": {}
    },
    {
      "cell_type": "code",
      "source": "x_test = np.arange(32).reshape(8, 2, 2) # массив 8x2x2",
      "metadata": {},
      "execution_count": null,
      "outputs": []
    },
    {
      "cell_type": "markdown",
      "source": "И нам потребовалось добавить еще одно измерение (ось), причем, в самое начало, то есть, ось axis0. Сейчас на этой оси 8 элементов – матриц 2x2, но мы хотим сделать четырехмерный массив, сохранив остальные три оси и их данные без изменений. Как раз это достаточно просто сделать с помощью функции expand_dims, следующим образом: ",
      "metadata": {}
    },
    {
      "cell_type": "code",
      "source": "x_test4 = np.expand_dims(x_test, axis=0)",
      "metadata": {},
      "execution_count": null,
      "outputs": []
    },
    {
      "cell_type": "markdown",
      "source": "Обращаясь к свойству shape: ",
      "metadata": {}
    },
    {
      "cell_type": "markdown",
      "source": "x_test4.shape",
      "metadata": {}
    },
    {
      "cell_type": "markdown",
      "source": "Видим, что массив стал четырехмерным и первая добавленная ось axis0 содержит один элемент – трехмерный массив 8x2x2. При необходимости, мы всегда можем добавить новый элемент на эту ось: ",
      "metadata": {}
    },
    {
      "cell_type": "code",
      "source": "a = np.append(x_test4, x_test4, axis=0) # размерность (2, 8, 2, 2)\na",
      "metadata": {},
      "execution_count": null,
      "outputs": []
    },
    {
      "cell_type": "markdown",
      "source": "или удалить ненужные элементы: ",
      "metadata": {}
    },
    {
      "cell_type": "code",
      "source": "b = np.delete(a, 0, axis=0) # размерность (1, 8, 2, 2)\nb",
      "metadata": {},
      "execution_count": null,
      "outputs": []
    },
    {
      "cell_type": "markdown",
      "source": "Здесь второй параметр 0 – индекс удаляемого элемента на оси axis0.\n\nЕсли нам нужно добавить последнюю ось в массиве, то для этого можно записать такую команду: ",
      "metadata": {}
    },
    {
      "cell_type": "code",
      "source": "b = np.expand_dims(x_test4, axis=-1) # размерность (1, 8, 2, 2, 1)",
      "metadata": {},
      "execution_count": null,
      "outputs": []
    },
    {
      "cell_type": "markdown",
      "source": "Отрицательный индекс -1 – это следующая с конца ось. Если указать индекс -2, то добавится предпоследняя ось и так далее. Отрицательные индексы очень удобно использовать при работе с массивами произвольных размерностей.\n\nСледующая функция squeeze позволяет удалить все оси с одним элементом. Например, строчка: ",
      "metadata": {}
    },
    {
      "cell_type": "code",
      "source": "c = np.squeeze(b) # размерность (8, 2, 2)\nc",
      "metadata": {},
      "execution_count": null,
      "outputs": []
    },
    {
      "cell_type": "markdown",
      "source": "превращает массив размерностью (1, 8, 2, 2) в массив размерностью (8, 2, 2). При необходимости, дополнительно мы можем самостоятельно указать оси, которые следует удалять, например, так: ",
      "metadata": {}
    },
    {
      "cell_type": "code",
      "source": "c = np.squeeze(b, axis=0) # удалит только ось axis0, не затронув другие",
      "metadata": {},
      "execution_count": null,
      "outputs": []
    },
    {
      "cell_type": "markdown",
      "source": "Но, если указать ось с числом элементов больше 1, то возникнет ошибка: ",
      "metadata": {}
    },
    {
      "cell_type": "code",
      "source": "c = np.squeeze(b, axis=1) # ошибка, на оси axis1 8 элементов",
      "metadata": {},
      "execution_count": null,
      "outputs": []
    },
    {
      "cell_type": "markdown",
      "source": "В NumPy добавлять новые оси иногда удобнее с помощью специального объекта np.newaxis. Например, пусть у нас есть одномерный массив: ",
      "metadata": {}
    },
    {
      "cell_type": "code",
      "source": "a = np.arange(1, 10)\na",
      "metadata": {},
      "execution_count": null,
      "outputs": []
    },
    {
      "cell_type": "markdown",
      "source": "У него одна ось – одно измерение. Добавим еще одну ось, допустим, в начало. С помощью объекта np.newaxis это можно сделать так: ",
      "metadata": {}
    },
    {
      "cell_type": "code",
      "source": "b = a[np.newaxis, :] # добавление оси axis0\nprint(b)\nb.shape # (1, 9)",
      "metadata": {},
      "execution_count": null,
      "outputs": []
    },
    {
      "cell_type": "markdown",
      "source": "Или, можно прописать сразу две оси: ",
      "metadata": {}
    },
    {
      "cell_type": "code",
      "source": "c = a[np.newaxis, :, np.newaxis]\nprint(c)\nc.shape # (1, 9, 1)",
      "metadata": {},
      "execution_count": null,
      "outputs": []
    },
    {
      "cell_type": "markdown",
      "source": "# Базовые математические операции над массивами",
      "metadata": {}
    },
    {
      "cell_type": "markdown",
      "source": "Предположим, имеется обычный список и массив, созданный на его основе:",
      "metadata": {}
    },
    {
      "cell_type": "code",
      "source": "lst = [1, 2, 3]\na = np.array([1, 2, 3])",
      "metadata": {},
      "execution_count": null,
      "outputs": []
    },
    {
      "cell_type": "markdown",
      "source": "Сейчас вы увидите принципиальную разницу между двумя этими объектами. Умножим их на число 2: ",
      "metadata": {}
    },
    {
      "cell_type": "code",
      "source": "lst*2\na*2",
      "metadata": {},
      "execution_count": null,
      "outputs": []
    },
    {
      "cell_type": "markdown",
      "source": "Видите, при умножении списка языка Python, он дублируется дважды, а при умножении на NumPy массив – каждый его элемент умножается математически на число 2. Если бы мы захотели то же самое реализовать непосредственно на Python, оперируя списками, то пришлось бы делать что-то вроде:",
      "metadata": {}
    },
    {
      "cell_type": "code",
      "source": "[x*2 for x in lst]",
      "metadata": {},
      "execution_count": null,
      "outputs": []
    },
    {
      "cell_type": "markdown",
      "source": "Но выполнялась бы такая конструкция дольше, чем в случае с массивом NumPy. Именно благодаря удобству и скорости библиотека NumPy и приобрела свою популярность.",
      "metadata": {}
    },
    {
      "cell_type": "markdown",
      "source": "Пусть у нас задан тот же одномерный массив: ",
      "metadata": {}
    },
    {
      "cell_type": "code",
      "source": "a = np.array([1, 2, 3])",
      "metadata": {},
      "execution_count": null,
      "outputs": []
    },
    {
      "cell_type": "markdown",
      "source": "Все указанные в таблице операции выполняются следующим образом: ",
      "metadata": {}
    },
    {
      "cell_type": "code",
      "source": "print(-a) # унарный минус\nprint(a + 2) # сложение с числом\nprint(2 + a)  # так тоже можно записывать\nprint(a - 3) # вычитание с числом\nprint(a * 5) # умножение на число\nprint(a / 5)  # деление на число\nprint(a // 2)  # целочисленное деление\nprint(a ** 3)  # возведение в степень 3\nprint(a % 2)  # вычисление по модулю 2",
      "metadata": {},
      "execution_count": null,
      "outputs": []
    },
    {
      "cell_type": "markdown",
      "source": "Приоритеты этих операций такие же, что и при обычных математических вычислениях. А на выходе мы получаем новый массив с соответствующими значениями.\n\nДавайте теперь добавим еще один массив: ",
      "metadata": {}
    },
    {
      "cell_type": "code",
      "source": "b = np.array([3, 4, 5])",
      "metadata": {},
      "execution_count": null,
      "outputs": []
    },
    {
      "cell_type": "markdown",
      "source": "и посмотрим на эти же операции, но с участием двух массивов:",
      "metadata": {}
    },
    {
      "cell_type": "code",
      "source": "print(a - b)\nprint(b + a)\nprint(a * b)\nprint(b / a)\nprint(b // a)\nprint(b ** a)\nprint(b % a)",
      "metadata": {},
      "execution_count": null,
      "outputs": []
    },
    {
      "cell_type": "markdown",
      "source": "Везде мы видим поэлементные операции. Соответственно, чтобы они выполнялись, массивы должны быть согласованы по длине. Например, если взять массив: ",
      "metadata": {}
    },
    {
      "cell_type": "code",
      "source": "b = np.array([3, 4, 5, 6])",
      "metadata": {},
      "execution_count": null,
      "outputs": []
    },
    {
      "cell_type": "markdown",
      "source": "и выполнить операцию: ",
      "metadata": {}
    },
    {
      "cell_type": "code",
      "source": "a + b  # ошибка: длины массивов не совпадают",
      "metadata": {},
      "execution_count": null,
      "outputs": []
    },
    {
      "cell_type": "markdown",
      "source": "то возникнет ошибка из-за несовпадения длин массивов. Но вот такая операция с двумерным массивом b сработает: ",
      "metadata": {}
    },
    {
      "cell_type": "code",
      "source": "b = np.arange(1, 7)\nb.resize(2, 3)\na + b",
      "metadata": {},
      "execution_count": null,
      "outputs": []
    },
    {
      "cell_type": "markdown",
      "source": "В этом случае массив a будет применен к каждой строке массива b. Такое поведение получило название транслирование массивов.",
      "metadata": {}
    },
    {
      "cell_type": "markdown",
      "source": "Все рассмотренные операции можно распространить и на многомерные массивы, главное, чтобы они были согласованы по размерам. Я приведу два небольших примера, так как думаю, общий принцип здесь понятен. Пусть у нас трехмерный и двумерный массивы: ",
      "metadata": {}
    },
    {
      "cell_type": "code",
      "source": "a = np.arange(1, 19)\na.resize(3, 3, 2)\nb = np.ones((3, 2))",
      "metadata": {},
      "execution_count": null,
      "outputs": []
    },
    {
      "cell_type": "markdown",
      "source": "С ними можно выполнять такие операции:",
      "metadata": {}
    },
    {
      "cell_type": "code",
      "source": "print(a - b)\nprint(a * 10)\nprint(a // b)",
      "metadata": {},
      "execution_count": null,
      "outputs": []
    },
    {
      "cell_type": "markdown",
      "source": "Если нам нужно произвести какие-либо математические операции с массивом и изменения сохранить в нем же, то удобно использовать сокращенные записи.",
      "metadata": {}
    },
    {
      "cell_type": "code",
      "source": "a = np.array([1, 2, 6, 8])\na += 5\nb = np.ones(4)\nb *= a",
      "metadata": {},
      "execution_count": null,
      "outputs": []
    },
    {
      "cell_type": "markdown",
      "source": "# Элементы линейной алгебры",
      "metadata": {}
    },
    {
      "cell_type": "markdown",
      "source": "**Упражнение 1**\n\nСоздайте два вектора.\n\nНайдите в документации numpy функции **dot** и **inner** вычислите скалярное произведение векторов.",
      "metadata": {}
    },
    {
      "cell_type": "code",
      "source": "import numpy as np\na = np.array([1, 2, 3])\nb = np.array([3, 0, -1])\nprint(np.dot(a,b))",
      "metadata": {
        "trusted": true
      },
      "execution_count": 1,
      "outputs": [
        {
          "name": "stdout",
          "text": "0\n",
          "output_type": "stream"
        }
      ]
    },
    {
      "cell_type": "markdown",
      "source": "**Упражнение 2**\n\nСоздайте две матрицы (двумерных массива).\n\nНайдите в документации numpy функции **dot** и **matmul** и с помощью этих функций вычислите произведение двух матриц.\n\nСоздайте диагональную единичную матрицу и выполните умножение одной из предыдущих матриц на единичную матрицу.",
      "metadata": {}
    },
    {
      "cell_type": "code",
      "source": "a = np.array([[3, 5], [4, 1]])\nb = np.array([[1, 3], [2, 8]])\nprint(np.dot(a,b))\nc = np.eye(2)\nprint(np.dot(a,c))",
      "metadata": {},
      "execution_count": 2,
      "outputs": [
        {
          "ename": "NameError",
          "evalue": "name 'np' is not defined",
          "output_type": "error",
          "traceback": [
            "\u001b[0;31m---------------------------------------------------------------------------\u001b[0m",
            "\u001b[0;31mNameError\u001b[0m                                 Traceback (most recent call last)",
            "\u001b[0;32m/tmp/ipykernel_10947/3384763738.py\u001b[0m in \u001b[0;36m<module>\u001b[0;34m\u001b[0m\n\u001b[0;32m----> 1\u001b[0;31m \u001b[0ma\u001b[0m \u001b[0;34m=\u001b[0m \u001b[0mnp\u001b[0m\u001b[0;34m.\u001b[0m\u001b[0marray\u001b[0m\u001b[0;34m(\u001b[0m\u001b[0;34m[\u001b[0m\u001b[0;34m[\u001b[0m\u001b[0;36m3\u001b[0m\u001b[0;34m,\u001b[0m \u001b[0;36m5\u001b[0m\u001b[0;34m]\u001b[0m\u001b[0;34m,\u001b[0m \u001b[0;34m[\u001b[0m\u001b[0;36m4\u001b[0m\u001b[0;34m,\u001b[0m \u001b[0;36m1\u001b[0m\u001b[0;34m]\u001b[0m\u001b[0;34m]\u001b[0m\u001b[0;34m)\u001b[0m\u001b[0;34m\u001b[0m\u001b[0;34m\u001b[0m\u001b[0m\n\u001b[0m\u001b[1;32m      2\u001b[0m \u001b[0mb\u001b[0m \u001b[0;34m=\u001b[0m \u001b[0mnp\u001b[0m\u001b[0;34m.\u001b[0m\u001b[0marray\u001b[0m\u001b[0;34m(\u001b[0m\u001b[0;34m[\u001b[0m\u001b[0;34m[\u001b[0m\u001b[0;36m1\u001b[0m\u001b[0;34m,\u001b[0m \u001b[0;36m3\u001b[0m\u001b[0;34m]\u001b[0m\u001b[0;34m,\u001b[0m \u001b[0;34m[\u001b[0m\u001b[0;36m2\u001b[0m\u001b[0;34m,\u001b[0m \u001b[0;36m8\u001b[0m\u001b[0;34m]\u001b[0m\u001b[0;34m]\u001b[0m\u001b[0;34m)\u001b[0m\u001b[0;34m\u001b[0m\u001b[0;34m\u001b[0m\u001b[0m\n\u001b[1;32m      3\u001b[0m \u001b[0mprint\u001b[0m\u001b[0;34m(\u001b[0m\u001b[0mnp\u001b[0m\u001b[0;34m.\u001b[0m\u001b[0mdot\u001b[0m\u001b[0;34m(\u001b[0m\u001b[0ma\u001b[0m\u001b[0;34m,\u001b[0m\u001b[0mb\u001b[0m\u001b[0;34m)\u001b[0m\u001b[0;34m)\u001b[0m\u001b[0;34m\u001b[0m\u001b[0;34m\u001b[0m\u001b[0m\n\u001b[1;32m      4\u001b[0m \u001b[0mc\u001b[0m \u001b[0;34m=\u001b[0m \u001b[0mnp\u001b[0m\u001b[0;34m.\u001b[0m\u001b[0meye\u001b[0m\u001b[0;34m(\u001b[0m\u001b[0;36m2\u001b[0m\u001b[0;34m)\u001b[0m\u001b[0;34m\u001b[0m\u001b[0;34m\u001b[0m\u001b[0m\n\u001b[1;32m      5\u001b[0m \u001b[0mprint\u001b[0m\u001b[0;34m(\u001b[0m\u001b[0mnp\u001b[0m\u001b[0;34m.\u001b[0m\u001b[0mdot\u001b[0m\u001b[0;34m(\u001b[0m\u001b[0ma\u001b[0m\u001b[0;34m,\u001b[0m\u001b[0mc\u001b[0m\u001b[0;34m)\u001b[0m\u001b[0;34m)\u001b[0m\u001b[0;34m\u001b[0m\u001b[0;34m\u001b[0m\u001b[0m\n",
            "\u001b[0;31mNameError\u001b[0m: name 'np' is not defined"
          ]
        }
      ]
    },
    {
      "cell_type": "markdown",
      "source": "Вычисление нормы вектора:",
      "metadata": {}
    },
    {
      "cell_type": "code",
      "source": "b = np.array([0, 2, 3, 4, 5, 7])\nd = np.linalg.norm(b)\nd",
      "metadata": {},
      "execution_count": null,
      "outputs": []
    },
    {
      "cell_type": "markdown",
      "source": "**Упражнение 3**\n\nВычислите норму матрицы с помощью функции **np.linalg.norm**.",
      "metadata": {}
    },
    {
      "cell_type": "code",
      "source": "a = np.array([[3, 5], [4, 1]])\nprint(np.linalg.norm(a))",
      "metadata": {
        "trusted": true
      },
      "execution_count": 2,
      "outputs": [
        {
          "name": "stdout",
          "text": "7.14142842854285\n",
          "output_type": "stream"
        }
      ]
    },
    {
      "cell_type": "markdown",
      "source": "**Упражнение 4**\n\nВычислите косинус угла между векторами: $\\normalsize cos\\alpha = \\frac{a*b}{\\|a\\|*\\|b\\|}$",
      "metadata": {}
    },
    {
      "cell_type": "code",
      "source": "a = np.array([1, 2, 3])\nb = np.array([3, 0, -1])\nprint(np.dot(a,b)/np.linalg.norm(a)/np.linalg.norm(b))",
      "metadata": {
        "trusted": true
      },
      "execution_count": 3,
      "outputs": [
        {
          "name": "stdout",
          "text": "0.0\n",
          "output_type": "stream"
        }
      ]
    },
    {
      "cell_type": "markdown",
      "source": "____________________________________________________________________________________________________________________\nВычисление определителя матрицы:",
      "metadata": {}
    },
    {
      "cell_type": "code",
      "source": "A = np.matrix('-4 -1 2; 10 4 -1; 8 3 1') # еще один способ для создания матрицы\nprint(A)\nd = np.linalg.det(A)\nprint(d)",
      "metadata": {},
      "execution_count": null,
      "outputs": []
    },
    {
      "cell_type": "markdown",
      "source": "**Упражнение 5**\n\nТранспонируйте матрицу, вычислите определитель. Отличается ли определитель транспонированной матрицы от определителя исходной матрицы?\n\nЗамените одну из строк матрицы на строку из нулей, вычислите определитель матрицы.\n\nСоздайте матрицу, у которой две строки переставлены местами по сравнению с исходной матрицей, вычислите определитель новой матрицы.\n\nСоздайте матрицу с двумя одинаковыми строками, вычислите ее определитель.\n\nУмножьте одну из строк исходной матрицы на число, вычислите определитель.\n\nПрибавьте к элементам одной строки прибавить элементы другой строки, умноженные на одно и тоже число, вычтслите определитель.",
      "metadata": {}
    },
    {
      "cell_type": "code",
      "source": "A = np.matrix('-4 -1 2; 10 4 -1; 8 3 1')\nprint(np.linalg.det(A))\nprint(A.T)\nprint(np.linalg.det(A.T))\nA[0] = [0, 0, 0]\nprint(A)\nprint(np.linalg.det(A))\nA = np.matrix('10 4 -1; -4 -1 2; 8 3 1')\nprint(A)\nprint(np.linalg.det(A))\nA = np.matrix('10 4 -1; 10 4 -1; 8 3 1')\nprint(A)\nprint(np.linalg.det(A))\nA = np.matrix('-8 -2 4; 10 4 -1; 8 3 1')\nprint(A)\nprint(np.linalg.det(A))\nA = np.matrix('10 4 -1; -4 -1 2; 8 3 1')\nA[0]=A[0]+3*A[1]\nprint(A)\nprint(np.linalg.det(A))",
      "metadata": {
        "trusted": true
      },
      "execution_count": 12,
      "outputs": [
        {
          "name": "stdout",
          "text": "-14.000000000000009\n[[-4 10  8]\n [-1  4  3]\n [ 2 -1  1]]\n-13.999999999999996\n[[ 0  0  0]\n [10  4 -1]\n [ 8  3  1]]\n0.0\n[[10  4 -1]\n [-4 -1  2]\n [ 8  3  1]]\n14.000000000000009\n[[10  4 -1]\n [10  4 -1]\n [ 8  3  1]]\n0.0\n[[-8 -2  4]\n [10  4 -1]\n [ 8  3  1]]\n-28.00000000000002\n[[-2  1  5]\n [-4 -1  2]\n [ 8  3  1]]\n13.999999999999996\n",
          "output_type": "stream"
        }
      ]
    },
    {
      "cell_type": "markdown",
      "source": "# Построение графиков в matplotlib",
      "metadata": {}
    },
    {
      "cell_type": "markdown",
      "source": "Построение графика по точкам:",
      "metadata": {}
    },
    {
      "cell_type": "code",
      "source": "import matplotlib.pyplot as plt\nplt.plot([1, 2, 3, 4, 5], [1, 2, 3, 4, 5])\nplt.show()",
      "metadata": {},
      "execution_count": null,
      "outputs": []
    },
    {
      "cell_type": "markdown",
      "source": "Для начала построим линейную зависимость, дадим нашему графику название, подпишем оси и отобразим сетку:",
      "metadata": {}
    },
    {
      "cell_type": "code",
      "source": "import numpy as np\n# Независимая (x) и зависимая (y) переменные\nx = np.linspace(0, 10, 50)\ny = x\n\n# Построение графика\nplt.title(\"Линейная зависимость y = x\") # заголовок\nplt.xlabel(\"x\") # ось абсцисс\nplt.ylabel(\"y\") # ось ординат\nplt.grid()      # включение отображение сетки\nplt.plot(x, y)  # построение графика",
      "metadata": {},
      "execution_count": null,
      "outputs": []
    },
    {
      "cell_type": "markdown",
      "source": "Изменим тип линии и ее цвет, для этого в функцию plot(), в качестве третьего параметра передадим строку, сформированную определенным образом, в нашем случае это “r–”, где “r” означает красный цвет, а “–” – тип линии – пунктирная линия.",
      "metadata": {}
    },
    {
      "cell_type": "code",
      "source": "# Построение графика\nplt.title(\"Линейная зависимость y = x\") # заголовок\nplt.xlabel(\"x\") # ось абсцисс\nplt.ylabel(\"y\") # ось ординат\nplt.grid()      # включение отображение сетки\nplt.plot(x, y, \"r--\")  # построение графика",
      "metadata": {},
      "execution_count": null,
      "outputs": []
    },
    {
      "cell_type": "markdown",
      "source": "**Несколько графиков на одном поле**\n\nПостроим несколько графиков на одном поле, для этого добавим квадратичную зависимость:",
      "metadata": {}
    },
    {
      "cell_type": "code",
      "source": "# Линейная зависимость\nx = np.linspace(0, 10, 50)\ny1 = x\n# Квадратичная зависимость\ny2 = [i**2 for i in x]\n# Построение графика\nplt.title(\"Зависимости: y1 = x, y2 = x^2\") # заголовок\nplt.xlabel(\"x\")         # ось абсцисс\nplt.ylabel(\"y1, y2\")    # ось ординат\nplt.grid()              # включение отображение сетки\nplt.plot(x, y1, x, y2)  # построение графика",
      "metadata": {},
      "execution_count": null,
      "outputs": []
    },
    {
      "cell_type": "markdown",
      "source": "В приведенном примере в функцию plot() последовательно передаются два массива для построения первого графика и два массива для построения второго, при этом, как вы можете заметить, для обоих графиков массив значений независимой переменной x один и то же.",
      "metadata": {}
    },
    {
      "cell_type": "markdown",
      "source": "**Несколько разделенных полей с графиками**\n\nТретья, довольно часто встречающаяся задача – это отобразить два или более различных поля, на которых будет отображено по одному или более графику.\n\nПостроим уже известные нам две зависимость на разных полях.",
      "metadata": {}
    },
    {
      "cell_type": "code",
      "source": "# Линейная зависимость\nx = np.linspace(0, 10, 50)\ny1 = x\n# Квадратичная зависимость\ny2 = [i**2 for i in x]\n# Построение графиков\nplt.figure(figsize=(9, 9))\nplt.subplot(2, 1, 1)\nplt.plot(x, y1)               # построение графика\nplt.title(\"Зависимости: y1 = x, y2 = x^2\") # заголовок\nplt.ylabel(\"y1\", fontsize=14) # ось ординат\nplt.grid(True)                # включение отображение сетки\nplt.subplot(2, 1, 2)\nplt.plot(x, y2)               # построение графика\nplt.xlabel(\"x\", fontsize=14)  # ось абсцисс\nplt.ylabel(\"y2\", fontsize=14) # ось ординат\nplt.grid(True)                # включение отображение сетки",
      "metadata": {},
      "execution_count": null,
      "outputs": []
    },
    {
      "cell_type": "markdown",
      "source": "Здесь мы воспользовались новыми функциями: \n\nfigure() – функция для задания глобальных параметров отображения графиков. В нее, в качестве аргумента, мы передаем кортеж, определяющий размер общего поля. \n\nsubplot() – функция для задания местоположения поля с графиком. Существует несколько способов задания областей для вывода через функцию subplot() мы воспользовались следующим: первый аргумент – количество строк, второй – столбцов в формируемом поле, третий – индекс (номер поля, считаем сверху вниз, слева направо).\n\nДополнительно мы использовали параметр fontsize для функций xlabel() и ylabel(), для задания размера шрифта.",
      "metadata": {}
    },
    {
      "cell_type": "markdown",
      "source": "**Точечная диаграмма (scatter plot)**",
      "metadata": {}
    },
    {
      "cell_type": "code",
      "source": "import numpy as np\nimport matplotlib.pyplot as plt\n\n\nN = 50\nx = np.random.rand(N) # случайный вектор из 50 элементов\nprint(\"x\", x)\ny = np.random.rand(N) # случайный вектор из 50 элементов\nprint(\"y\", y)\ncolors = np.random.rand(N) # случайный вектор из 50 элементов, чтобы задавать цвета каждой из точек\narea = (30 * np.random.rand(N))**2 # случайные площади каждой из точек\n\nplt.scatter(x, y, s=area, c=colors, alpha=0.5) # нанесение точек на диаграмму, x и y - координаты\n                                               # area - площади точек, colors - цвета точек\n                                               # alpha - значение прозрачности точек\nplt.show()",
      "metadata": {},
      "execution_count": null,
      "outputs": []
    },
    {
      "cell_type": "markdown",
      "source": "**Пример с вычислением числа $\\pi$ с помощью метода Монте Карло и визуализация результатов**",
      "metadata": {}
    },
    {
      "cell_type": "markdown",
      "source": "Переключим режим отображения графиков в notebook:",
      "metadata": {}
    },
    {
      "cell_type": "code",
      "source": "%matplotlib notebook",
      "metadata": {},
      "execution_count": null,
      "outputs": []
    },
    {
      "cell_type": "code",
      "source": "import matplotlib.pyplot as plt\nimport numpy as np\nfrom matplotlib.axes import Axes\nfrom scipy.stats import norm\n\nclass PiAnimation:\n    def __init__(self, ax: Axes, ax_pi: Axes, ax_gaus: Axes):\n        self.inner = 0\n        self.out = 0\n\n        self.xi, self.yi = [], []\n        self.xo, self.yo = [], []\n\n        ax.set_xlim(-1.0, 1.5)\n        ax.set_ylim(-1.0, 1.5)\n        ax.axis(\"off\")\n        ax.add_artist(plt.Circle((0.0, 0.0), 1, fill=False))\n        ax.add_artist(plt.Rectangle((-1, -1), 2, 2, fill=False))\n\n        self.line_i = ax.plot(self.xi, self.yi, \"ro\")[0]\n        self.line_o = ax.plot(self.xo, self.yo, \"bo\")[0]\n        self.text = ax.text(0.3, 1.1, \"\", fontdict={\"fontsize\": 32})\n        self.text_n = ax.text(-0.9, 1.1, \"\", fontdict={\"fontsize\": 32})\n\n        self.ax_pi = ax_pi\n        self.pi = []\n        self.pi_line = ax_pi.plot([], self.pi,\"-\")[0]\n        ax_pi.set_ylim(0, 2*np.pi)\n\n        self.ax_gaus = ax_gaus\n        self.gauss_point = np.linspace(0.5*np.pi, 1.5 * np.pi, 200)\n        self.gauss = ax_gaus.plot(self.gauss_point, np.zeros(200), \"\")[0]\n\n    def __call__(self, n):\n        x, y = 2*(np.random.random_sample(2) - 0.5)\n        if x ** 2 + y ** 2 <= 1:\n            self.inner += 1\n            self.xi.append(x)\n            self.yi.append(y)\n            self.line_i.set_data(self.xi, self.yi)\n        else:\n            self.out +=1\n            self.xo.append(x)\n            self.yo.append(y)\n            self.line_o.set_data(self.xo, self.yo)\n        N = self.inner + self.out\n        prob = self.inner/N\n        pi = 4*prob\n        self.pi.append(pi)\n        self.text.set_text(r\"$\\pi = {:.5}$\".format(pi))\n        self.text_n.set_text(\"N = {:5d}   \".format(N))\n\n        self.pi_line.set_data(range(N), self.pi)\n        self.ax_pi.relim()\n        self.ax_pi.autoscale()\n\n        mean, var = np.mean(self.pi), np.var(self.pi)\n\n        if N > 3:\n            self.gauss.set_data(self.gauss_point, norm.pdf(self.gauss_point, loc = mean, scale = var))\n            self.ax_gaus.relim()\n            self.ax_gaus.autoscale()\n        return self.line_i, self.line_o, self.text, self.text_n, self.pi_line, self.gauss",
      "metadata": {},
      "execution_count": null,
      "outputs": []
    },
    {
      "cell_type": "code",
      "source": "from matplotlib.animation import FuncAnimation\n\n\nfig = plt.figure(figsize=(14,7))\nax1 = plt.subplot(121)\nax2 = plt.subplot(222)\nax3 = plt.subplot(224)\npi_ani = PiAnimation(ax1, ax2, ax3)\nanim = FuncAnimation(fig, pi_ani, frames=10_000, interval=50, blit=True)\nplt.show()",
      "metadata": {},
      "execution_count": null,
      "outputs": []
    },
    {
      "cell_type": "code",
      "source": "",
      "metadata": {},
      "execution_count": null,
      "outputs": []
    }
  ]
}