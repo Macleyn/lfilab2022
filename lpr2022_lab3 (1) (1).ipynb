{
  "metadata": {
    "kernelspec": {
      "name": "python",
      "display_name": "Python (Pyodide)",
      "language": "python"
    },
    "language_info": {
      "codemirror_mode": {
        "name": "python",
        "version": 3
      },
      "file_extension": ".py",
      "mimetype": "text/x-python",
      "name": "python",
      "nbconvert_exporter": "python",
      "pygments_lexer": "ipython3",
      "version": "3.8"
    }
  },
  "nbformat_minor": 5,
  "nbformat": 4,
  "cells": [
    {
      "cell_type": "markdown",
      "source": "# Set.",
      "metadata": {},
      "id": "cc9180ab"
    },
    {
      "cell_type": "markdown",
      "source": "Множество `set` в Python имеет тот же смысл, что понятие множества в математике. `Множество` содержит неупорядоченный набор элементов. Множества поддерживают стандартные математические операции над ними: *объединение, пересечение, разность*. Возможно также добавление и удаление элементов, проверка их принадлежности множеству с помощью оператора `in`. При этом все элементы входят в `set` только один раз, добавление существующего элемента не изменяет множество. Элементами множества могут быть только `неизменяемые` типы, например, его элементами не могут быть списки.\n\n### Таблица по взаимодействию элемента и множества\nОперация  | Значение \n---|---\n`x in A`  | $x \\in A$, принадлежит ли элемент x множеству A \n`x not in A`  | $x \\notin A$ — то же, что `not (x in A)`\n`A.add(x)`  | добавить элемент x в множество A \n`A.discard(x)`  | удалить элемент x из множества A \n`A.remove(x)`  | удалить элемент x из множества A \n`A.pop()`  | удаляет из множества один случайный элемент и возвращает его ",
      "metadata": {},
      "id": "2905a413"
    },
    {
      "cell_type": "code",
      "source": "a = {1, 2, 3}\na.add(4)\nprint(a)",
      "metadata": {},
      "execution_count": 1,
      "outputs": [
        {
          "name": "stdout",
          "output_type": "stream",
          "text": "{1, 2, 3, 4}\n"
        }
      ],
      "id": "b764f6e7"
    },
    {
      "cell_type": "code",
      "source": "a.add(1)\nprint(a)",
      "metadata": {},
      "execution_count": 2,
      "outputs": [
        {
          "name": "stdout",
          "output_type": "stream",
          "text": "{1, 2, 3, 4}\n"
        }
      ],
      "id": "10b6998a"
    },
    {
      "cell_type": "code",
      "source": "print(0 in a, 1 in a)",
      "metadata": {},
      "execution_count": 3,
      "outputs": [
        {
          "name": "stdout",
          "output_type": "stream",
          "text": "False True\n"
        }
      ],
      "id": "8feef037"
    },
    {
      "cell_type": "markdown",
      "source": "Для удаления элементов из множества можно использовать `discard` и `remove`, их поведение различается тогда, когда удаляемый элемент отсутствует в множестве: `discard` не делает ничего, а метод `remove` генерирует исключение `KeyError`, которое вы увидите в одной из ячеек ниже.",
      "metadata": {},
      "id": "96713d33"
    },
    {
      "cell_type": "code",
      "source": "a.remove(1)\nprint(a)",
      "metadata": {},
      "execution_count": 4,
      "outputs": [
        {
          "name": "stdout",
          "output_type": "stream",
          "text": "{2, 3, 4}\n"
        }
      ],
      "id": "a59d5948"
    },
    {
      "cell_type": "code",
      "source": "a.remove(0)\nprint(a)",
      "metadata": {},
      "execution_count": 5,
      "outputs": [
        {
          "ename": "KeyError",
          "evalue": "0",
          "output_type": "error",
          "traceback": [
            "\u001b[0;31m---------------------------------------------------------------------------\u001b[0m",
            "\u001b[0;31mKeyError\u001b[0m                                  Traceback (most recent call last)",
            "\u001b[0;32m/tmp/ipykernel_3875/3813938388.py\u001b[0m in \u001b[0;36m<module>\u001b[0;34m\u001b[0m\n\u001b[0;32m----> 1\u001b[0;31m \u001b[0ma\u001b[0m\u001b[0;34m.\u001b[0m\u001b[0mremove\u001b[0m\u001b[0;34m(\u001b[0m\u001b[0;36m0\u001b[0m\u001b[0;34m)\u001b[0m\u001b[0;34m\u001b[0m\u001b[0;34m\u001b[0m\u001b[0m\n\u001b[0m\u001b[1;32m      2\u001b[0m \u001b[0mprint\u001b[0m\u001b[0;34m(\u001b[0m\u001b[0ma\u001b[0m\u001b[0;34m)\u001b[0m\u001b[0;34m\u001b[0m\u001b[0;34m\u001b[0m\u001b[0m\n",
            "\u001b[0;31mKeyError\u001b[0m: 0"
          ]
        }
      ],
      "id": "b33b0ea5"
    },
    {
      "cell_type": "code",
      "source": "print(a)",
      "metadata": {},
      "execution_count": 6,
      "outputs": [
        {
          "name": "stdout",
          "output_type": "stream",
          "text": "{2, 3, 4}\n"
        }
      ],
      "id": "c1a18deb"
    },
    {
      "cell_type": "code",
      "source": "a.discard(2)\nprint(a)",
      "metadata": {},
      "execution_count": 7,
      "outputs": [
        {
          "name": "stdout",
          "output_type": "stream",
          "text": "{3, 4}\n"
        }
      ],
      "id": "bae1b5de"
    },
    {
      "cell_type": "code",
      "source": "a.discard(0)\nprint(a)",
      "metadata": {},
      "execution_count": 8,
      "outputs": [
        {
          "name": "stdout",
          "output_type": "stream",
          "text": "{3, 4}\n"
        }
      ],
      "id": "27de8b15"
    },
    {
      "cell_type": "markdown",
      "source": "Для создания пустого множества или для получения множества из *итерируемого* объекта можно использовать конструктор множеств `set`:",
      "metadata": {},
      "id": "5f4bca28"
    },
    {
      "cell_type": "code",
      "source": "a = set()\nprint(a)\na.add(1)\nprint(a)",
      "metadata": {},
      "execution_count": 9,
      "outputs": [
        {
          "name": "stdout",
          "output_type": "stream",
          "text": "set()\n\n{1}\n"
        }
      ],
      "id": "68ccf6f0"
    },
    {
      "cell_type": "markdown",
      "source": "Конструкция ниже не работает, потому что фигурные скобки используются для создания пустых словарей `dict`, о которых будет сказано ниже.",
      "metadata": {},
      "id": "01353f80"
    },
    {
      "cell_type": "code",
      "source": "a = { }\nprint(a)\na.add(1)\nprint(a)",
      "metadata": {},
      "execution_count": 13,
      "outputs": [
        {
          "name": "stdout",
          "output_type": "stream",
          "text": "set()\n\n{1}\n"
        }
      ],
      "id": "73ca6b59"
    },
    {
      "cell_type": "code",
      "source": "a = [1, 2, 3, 4]\nprint(set(a))",
      "metadata": {},
      "execution_count": 16,
      "outputs": [
        {
          "name": "stdout",
          "output_type": "stream",
          "text": "{1, 2, 3, 4}\n"
        }
      ],
      "id": "a2c72d10"
    },
    {
      "cell_type": "code",
      "source": "a = [1, 2, 3, 4, 1]\nprint(set(a))",
      "metadata": {},
      "execution_count": 17,
      "outputs": [
        {
          "name": "stdout",
          "output_type": "stream",
          "text": "{1, 2, 3, 4}\n"
        }
      ],
      "id": "6aec8e48"
    },
    {
      "cell_type": "code",
      "source": "a = \"abcd\"\nprint(set(a))",
      "metadata": {},
      "execution_count": 18,
      "outputs": [
        {
          "name": "stdout",
          "output_type": "stream",
          "text": "{'b', 'd', 'c', 'a'}\n"
        }
      ],
      "id": "5f28094e"
    },
    {
      "cell_type": "code",
      "source": "a = \"abcda\"\nprint(set(a))",
      "metadata": {},
      "execution_count": 19,
      "outputs": [
        {
          "name": "stdout",
          "output_type": "stream",
          "text": "{'b', 'd', 'c', 'a'}\n"
        }
      ],
      "id": "1f6a55db"
    },
    {
      "cell_type": "markdown",
      "source": "Операции над множествами можно записывать как коротко символами, так и названиями соответствующих функций:",
      "metadata": {},
      "id": "b22ea5f0"
    },
    {
      "cell_type": "code",
      "source": "a = {1, 2, 3, 4}\nb = {3, 4, 5, 6}\nprint(a.union(b))\nprint(a | b)",
      "metadata": {},
      "execution_count": 31,
      "outputs": [
        {
          "name": "stdout",
          "output_type": "stream",
          "text": "{1, 2, 3, 4, 5, 6}\n\n{1, 2, 3, 4, 5, 6}\n"
        }
      ],
      "id": "09c3ec60"
    },
    {
      "cell_type": "code",
      "source": "a = {1, 2, 3, 4}\nb = {3, 4, 5, 6}\nprint(a.intersection(b))\nprint(a & b)",
      "metadata": {},
      "execution_count": 21,
      "outputs": [
        {
          "name": "stdout",
          "output_type": "stream",
          "text": "{3, 4}\n\n{3, 4}\n"
        }
      ],
      "id": "6f286d8d"
    },
    {
      "cell_type": "code",
      "source": "a = {1, 2, 3, 4}\nb = {3, 4, 5, 6}\nprint(a.difference(b))\nprint(a - b)",
      "metadata": {},
      "execution_count": 22,
      "outputs": [
        {
          "name": "stdout",
          "output_type": "stream",
          "text": "{1, 2}\n\n{1, 2}\n"
        }
      ],
      "id": "14b1a2b6"
    },
    {
      "cell_type": "markdown",
      "source": "Симметрическая разность двух множеств - множество, состоящее из элементов, входящих в одно и только одно из данных множеств:",
      "metadata": {},
      "id": "99ecf48b"
    },
    {
      "cell_type": "code",
      "source": "a = {1, 2, 3, 4}\nb = {3, 4, 5, 6}\nprint(a.symmetric_difference(b))\nprint(a ^ b)",
      "metadata": {},
      "execution_count": 23,
      "outputs": [
        {
          "name": "stdout",
          "output_type": "stream",
          "text": "{1, 2, 5, 6}\n\n{1, 2, 5, 6}\n"
        }
      ],
      "id": "f58dd2af"
    },
    {
      "cell_type": "code",
      "source": "a = {1, 2, 3, 4}\nb = {3, 4, 5, 6}\nprint(a <= b)\nprint(a.issubset(b))\n\nc = {3, 4}\nd = {3, 4, 5, 6}\nprint(c <= d)\nprint(c.issubset(d))",
      "metadata": {},
      "execution_count": 24,
      "outputs": [
        {
          "name": "stdout",
          "output_type": "stream",
          "text": "False\n\nFalse\n\nTrue\n\nTrue\n"
        }
      ],
      "id": "2fd6de37"
    },
    {
      "cell_type": "code",
      "source": "a = {3, 4, 5, 6}\nb = {3, 4, 5, 6}\nprint(a <= b)\nprint(a < b)",
      "metadata": {},
      "execution_count": 25,
      "outputs": [
        {
          "name": "stdout",
          "output_type": "stream",
          "text": "True\n\nFalse\n"
        }
      ],
      "id": "794fe0bb"
    },
    {
      "cell_type": "markdown",
      "source": "Существуют также операции наподобие `+=`, `-=`, `*=`, `/=`, `//=`:",
      "metadata": {},
      "id": "e978e84a"
    },
    {
      "cell_type": "code",
      "source": "a = {1, 2, 3, 4}\nb = {3, 4, 5, 6}\na &= b\nprint(a)",
      "metadata": {},
      "execution_count": 26,
      "outputs": [
        {
          "name": "stdout",
          "output_type": "stream",
          "text": "{3, 4}\n"
        }
      ],
      "id": "c3e59589"
    },
    {
      "cell_type": "code",
      "source": "a = {1, 2, 3, 4}\nb = {3, 4, 5, 6}\na.intersection_update(b)\nprint(a)",
      "metadata": {},
      "execution_count": 27,
      "outputs": [
        {
          "name": "stdout",
          "output_type": "stream",
          "text": "{3, 4}\n"
        }
      ],
      "id": "82ff0931"
    },
    {
      "cell_type": "code",
      "source": "a = {1, 2, 3, 4}\nb = {3, 4, 5, 6}\na |= b\nprint(a)",
      "metadata": {},
      "execution_count": 28,
      "outputs": [
        {
          "name": "stdout",
          "output_type": "stream",
          "text": "{1, 2, 3, 4, 5, 6}\n"
        }
      ],
      "id": "9e19f911"
    },
    {
      "cell_type": "code",
      "source": "a = {1, 2, 3, 4}\nb = {3, 4, 5, 6}\na.update(b)\nprint(a)",
      "metadata": {},
      "execution_count": 29,
      "outputs": [
        {
          "name": "stdout",
          "output_type": "stream",
          "text": "{1, 2, 3, 4, 5, 6}\n"
        }
      ],
      "id": "3e07d561"
    },
    {
      "cell_type": "code",
      "source": "a = {1, 2, 3, 4}\nb = {3, 4, 5, 6}\na -= b\nprint(a)",
      "metadata": {},
      "execution_count": null,
      "outputs": [],
      "id": "beabdba5"
    },
    {
      "cell_type": "code",
      "source": "a = {1, 2, 3, 4}\nb = {3, 4, 5, 6}\na.difference_update(b)\nprint(a)",
      "metadata": {},
      "execution_count": 32,
      "outputs": [
        {
          "name": "stdout",
          "output_type": "stream",
          "text": "{1, 2}\n"
        }
      ],
      "id": "0ccfb2a9"
    },
    {
      "cell_type": "markdown",
      "source": "### Сводная таблица операций с множествами:\nОперация  | Альтернатива | Значение \n---|---|---\n`A \\| B` | `A.union(B)`  | Возвращает множество, являющееся объединением множеств A и B. \n`A \\|= B` | `A.update(B)` | Записывает в A объединение множеств A и B. \n`A & B` | `A.intersection(B)`  | Возвращает множество, являющееся пересечением множеств A и B. \n`A &= B` | `A.intersection_update(B)`  | Записывает в A пересечение множеств A и B. \n`A - B` | `A.difference(B)`  | Возвращает разность множеств A и B (элементы, входящие в A, но не входящие в B). \n`A -= B` | `A.difference_update(B)`  | Записывает в A разность множеств A и B. \n`A ^ B` | `A.symmetric_difference(B)`  | Возвращает симметрическую разность множеств A и B (элементы, входящие в A или в B, но не в оба из них одновременно). \n`A ^= B` | `A.symmetric_difference_update(B)`  | Записывает в A симметрическую разность множеств A и B. \n`A <= B` | `A.issubset(B)`  | Возвращает True, если A является подмножеством B. \n`A >= B` | `A.issuperset(B)`  | Возвращает True, если B является подмножеством A. \n`A < B`  | | Эквивалентно A <= B and A != B \n`A > B`  | | Эквивалентно A >= B and A != B \n\n\n",
      "metadata": {},
      "id": "c6ac45f8"
    },
    {
      "cell_type": "markdown",
      "source": "**Упражнение 0**. Вывести на экран все элементы множества A, которых нет в множестве B. Дописать код ниже.",
      "metadata": {},
      "id": "203fa32c"
    },
    {
      "cell_type": "code",
      "source": "A = set('bqlpzlkwehrlulsdhfliuywemrlkjhsdlfjhlzxcovt')\nB = set('zmxcvnboaiyerjhbziuxdytvasenbriutsdvinjhgik')\nprint(A-B)",
      "metadata": {},
      "execution_count": 33,
      "outputs": [
        {
          "name": "stdout",
          "output_type": "stream",
          "text": "{'f', 'w', 'p', 'l', 'q'}\n"
        }
      ],
      "id": "2f7da262"
    },
    {
      "cell_type": "markdown",
      "source": "**Упражнение 1.** Считать через `input` строку, состоящую из 3 слов и найти буквы, входящие в каждое из слов.",
      "metadata": {},
      "id": "3661d47e"
    },
    {
      "cell_type": "code",
      "source": "a=[set(x) for x in input.split()]\nprint(a[0]&a[1]&a[2])",
      "metadata": {
        "trusted": true
      },
      "execution_count": 1,
      "outputs": [
        {
          "ename": "<class 'AttributeError'>",
          "evalue": "'function' object has no attribute 'split'",
          "traceback": [
            "\u001b[0;31m---------------------------------------------------------------------------\u001b[0m",
            "\u001b[0;31mAttributeError\u001b[0m                            Traceback (most recent call last)",
            "Cell \u001b[0;32mIn [1], line 1\u001b[0m\n\u001b[0;32m----> 1\u001b[0m a\u001b[38;5;241m=\u001b[39m[\u001b[38;5;28mset\u001b[39m(x) \u001b[38;5;28;01mfor\u001b[39;00m x \u001b[38;5;129;01min\u001b[39;00m \u001b[38;5;28;43minput\u001b[39;49m\u001b[38;5;241;43m.\u001b[39;49m\u001b[43msplit\u001b[49m()]\n\u001b[1;32m      2\u001b[0m \u001b[38;5;28mprint\u001b[39m(a[\u001b[38;5;241m0\u001b[39m]\u001b[38;5;241m&\u001b[39ma[\u001b[38;5;241m1\u001b[39m]\u001b[38;5;241m&\u001b[39ma[\u001b[38;5;241m2\u001b[39m])\n",
            "\u001b[0;31mAttributeError\u001b[0m: 'function' object has no attribute 'split'"
          ],
          "output_type": "error"
        }
      ],
      "id": "d5aa2772"
    },
    {
      "cell_type": "markdown",
      "source": "**Упражнение 2.** Считать через `input` строку, состоящую из произвольного числа слов и найти буквы, входящие в каждое из слов.",
      "metadata": {
        "tags": []
      },
      "id": "b18e5d22"
    },
    {
      "cell_type": "code",
      "source": "a=[set(x) for x in input().split()]\nfor i in range(len(a)):\n    a[0]=a[0]&a[i]\nprint(a[0])",
      "metadata": {},
      "execution_count": 2,
      "outputs": [
        {
          "ename": "NameError",
          "evalue": "name 'np' is not defined",
          "output_type": "error",
          "traceback": [
            "\u001b[0;31m---------------------------------------------------------------------------\u001b[0m",
            "\u001b[0;31mNameError\u001b[0m                                 Traceback (most recent call last)",
            "\u001b[0;32m/tmp/ipykernel_7863/3384763738.py\u001b[0m in \u001b[0;36m<module>\u001b[0;34m\u001b[0m\n\u001b[0;32m----> 1\u001b[0;31m \u001b[0ma\u001b[0m \u001b[0;34m=\u001b[0m \u001b[0mnp\u001b[0m\u001b[0;34m.\u001b[0m\u001b[0marray\u001b[0m\u001b[0;34m(\u001b[0m\u001b[0;34m[\u001b[0m\u001b[0;34m[\u001b[0m\u001b[0;36m3\u001b[0m\u001b[0;34m,\u001b[0m \u001b[0;36m5\u001b[0m\u001b[0;34m]\u001b[0m\u001b[0;34m,\u001b[0m \u001b[0;34m[\u001b[0m\u001b[0;36m4\u001b[0m\u001b[0;34m,\u001b[0m \u001b[0;36m1\u001b[0m\u001b[0;34m]\u001b[0m\u001b[0;34m]\u001b[0m\u001b[0;34m)\u001b[0m\u001b[0;34m\u001b[0m\u001b[0;34m\u001b[0m\u001b[0m\n\u001b[0m\u001b[1;32m      2\u001b[0m \u001b[0mb\u001b[0m \u001b[0;34m=\u001b[0m \u001b[0mnp\u001b[0m\u001b[0;34m.\u001b[0m\u001b[0marray\u001b[0m\u001b[0;34m(\u001b[0m\u001b[0;34m[\u001b[0m\u001b[0;34m[\u001b[0m\u001b[0;36m1\u001b[0m\u001b[0;34m,\u001b[0m \u001b[0;36m3\u001b[0m\u001b[0;34m]\u001b[0m\u001b[0;34m,\u001b[0m \u001b[0;34m[\u001b[0m\u001b[0;36m2\u001b[0m\u001b[0;34m,\u001b[0m \u001b[0;36m8\u001b[0m\u001b[0;34m]\u001b[0m\u001b[0;34m]\u001b[0m\u001b[0;34m)\u001b[0m\u001b[0;34m\u001b[0m\u001b[0;34m\u001b[0m\u001b[0m\n\u001b[1;32m      3\u001b[0m \u001b[0mprint\u001b[0m\u001b[0;34m(\u001b[0m\u001b[0mnp\u001b[0m\u001b[0;34m.\u001b[0m\u001b[0mdot\u001b[0m\u001b[0;34m(\u001b[0m\u001b[0ma\u001b[0m\u001b[0;34m,\u001b[0m\u001b[0mb\u001b[0m\u001b[0;34m)\u001b[0m\u001b[0;34m)\u001b[0m\u001b[0;34m\u001b[0m\u001b[0;34m\u001b[0m\u001b[0m\n\u001b[1;32m      4\u001b[0m \u001b[0mc\u001b[0m \u001b[0;34m=\u001b[0m \u001b[0mnp\u001b[0m\u001b[0;34m.\u001b[0m\u001b[0meye\u001b[0m\u001b[0;34m(\u001b[0m\u001b[0;36m2\u001b[0m\u001b[0;34m)\u001b[0m\u001b[0;34m\u001b[0m\u001b[0;34m\u001b[0m\u001b[0m\n\u001b[1;32m      5\u001b[0m \u001b[0mprint\u001b[0m\u001b[0;34m(\u001b[0m\u001b[0mnp\u001b[0m\u001b[0;34m.\u001b[0m\u001b[0mdot\u001b[0m\u001b[0;34m(\u001b[0m\u001b[0ma\u001b[0m\u001b[0;34m,\u001b[0m\u001b[0mc\u001b[0m\u001b[0;34m)\u001b[0m\u001b[0;34m)\u001b[0m\u001b[0;34m\u001b[0m\u001b[0;34m\u001b[0m\u001b[0m\n",
            "\u001b[0;31mNameError\u001b[0m: name 'np' is not defined"
          ]
        }
      ],
      "id": "157e055b"
    },
    {
      "cell_type": "markdown",
      "source": "**Упражнение 3\\*.** Считать через `input` несколько чисел через пробел и найти цифры, входящие в каждое из чисел. Использовать `while`.",
      "metadata": {},
      "id": "e3534537"
    },
    {
      "cell_type": "code",
      "source": "a=input().split()\ns= [list(x) for x in a]\nd= [set(y) for y in s]\nA = d[0]\nfor i in d:\n    A = A.intersection(i)\n# g=[z.intersection(z) for z in d ]\nprint(A)",
      "metadata": {},
      "execution_count": 104,
      "outputs": [
        {
          "name": "stdout",
          "output_type": "stream",
          "text": "1234 234 345\n\n{'3', '4'}\n"
        }
      ],
      "id": "8808e2e6"
    },
    {
      "cell_type": "markdown",
      "source": "# Dict.",
      "metadata": {},
      "id": "4c401aa6"
    },
    {
      "cell_type": "markdown",
      "source": "Кроме множеств также часто используются словари. Элемент словаря `dict` - это пара `ключ: значение`.\nКлючи позволяют обращаться к данным не по индексу, как это реализовано в списках, а по любому удобному значению.\n\n### Сводная таблица по операциям со словарями:\nОперация  | Значение \n---|---\n`value = A[key]` | Получение элемента по ключу. Если элемента с заданным ключом в словаре нет, то возникает исключение KeyError. \n`value = A.get(key)` | Получение элемента по ключу. Если элемента в словаре нет, то get возвращает None. \n`value = A.get(key, default_value)` | То же, но вместо None метод get возвращает default_value. \n`key in A` | Проверить принадлежность ключа словарю. \n`key not in A` | То же, что not key in A. \n`A[key] = value` | Добавление нового элемента в словарь. \n`del A[key]` | Удаление пары ключ-значение с ключом key. Возбуждает исключение KeyError, если такого ключа нет. \n`if key in A: del A[key]` | Удаление пары ключ-значение с предварительной проверкой наличия ключа. \n`value = A.pop(key)` | Удаление пары ключ-значение с ключом key и возврат значения удаляемого элемента.Если такого ключа нет, то возбуждается KeyError. \n`value = A.pop(key, default_value)` | То же, но вместо генерации исключения возвращается default_value. \n`A.pop(key, None)` | Это позволяет проще всего организовать безопасное удаление элемента из словаря. \n`len(A)` | Возвращает количество пар ключ-значение, хранящихся в словаре. \n",
      "metadata": {},
      "id": "b1a52ec5"
    },
    {
      "cell_type": "code",
      "source": "d = {\"Россия\": \"Москва\", \"Франция\": \"Париж\", \"Германия\": \"Берлин\"}\nprint(d[\"Германия\"])",
      "metadata": {},
      "execution_count": 93,
      "outputs": [
        {
          "name": "stdout",
          "output_type": "stream",
          "text": "Берлин\n"
        }
      ],
      "id": "b85122e9"
    },
    {
      "cell_type": "markdown",
      "source": "Такой способ хранения данных в данном случае является более естественным и удобным. Создание словаря и добавление элементов:",
      "metadata": {},
      "id": "eef7c663"
    },
    {
      "cell_type": "code",
      "source": "d = dict()\nd[\"Россия\"] = \"Москва\"\nprint(d)",
      "metadata": {},
      "execution_count": 94,
      "outputs": [
        {
          "name": "stdout",
          "output_type": "stream",
          "text": "{'Россия': 'Москва'}\n"
        }
      ],
      "id": "612972f3"
    },
    {
      "cell_type": "markdown",
      "source": "Можно обращаться к ключам словаря, к значениям словаря, итерировать по ключам и по парам ключ-значение.",
      "metadata": {},
      "id": "fb99a70b"
    },
    {
      "cell_type": "code",
      "source": "d = {\"Россия\": \"Москва\", \"Франция\": \"Париж\", \"Германия\": \"Берлин\"}\nprint(d.keys())\nprint(d.values())",
      "metadata": {},
      "execution_count": 95,
      "outputs": [
        {
          "name": "stdout",
          "output_type": "stream",
          "text": "dict_keys(['Россия', 'Франция', 'Германия'])\n\ndict_values(['Москва', 'Париж', 'Берлин'])\n"
        }
      ],
      "id": "0c99a37e"
    },
    {
      "cell_type": "code",
      "source": "for k in d.keys():\n    print(d[k])",
      "metadata": {},
      "execution_count": 96,
      "outputs": [
        {
          "name": "stdout",
          "output_type": "stream",
          "text": "Москва\n\nПариж\n\nБерлин\n"
        }
      ],
      "id": "c4c30767"
    },
    {
      "cell_type": "code",
      "source": "for k, v in d.items():\n    print(k, v)",
      "metadata": {},
      "execution_count": 97,
      "outputs": [
        {
          "name": "stdout",
          "output_type": "stream",
          "text": "Россия Москва\n\nФранция Париж\n\nГермания Берлин\n"
        }
      ],
      "id": "95a8fdf1"
    },
    {
      "cell_type": "code",
      "source": "print(d.items())",
      "metadata": {},
      "execution_count": 98,
      "outputs": [
        {
          "name": "stdout",
          "output_type": "stream",
          "text": "dict_items([('Россия', 'Москва'), ('Франция', 'Париж'), ('Германия', 'Берлин')])\n"
        }
      ],
      "id": "7304ca5e"
    },
    {
      "cell_type": "code",
      "source": "print(list(d.items()))",
      "metadata": {},
      "execution_count": 99,
      "outputs": [
        {
          "name": "stdout",
          "output_type": "stream",
          "text": "[('Россия', 'Москва'), ('Франция', 'Париж'), ('Германия', 'Берлин')]\n"
        }
      ],
      "id": "5c088447"
    },
    {
      "cell_type": "markdown",
      "source": "Можем сортировать такие объекты, например, по странам в лексикографическом порядке:",
      "metadata": {},
      "id": "f6560523"
    },
    {
      "cell_type": "code",
      "source": "d = list(d.items())\nd = sorted(d, key = lambda x: x[0])\nprint(d)",
      "metadata": {},
      "execution_count": 100,
      "outputs": [
        {
          "name": "stdout",
          "output_type": "stream",
          "text": "[('Германия', 'Берлин'), ('Россия', 'Москва'), ('Франция', 'Париж')]\n"
        }
      ],
      "id": "c84c8635"
    },
    {
      "cell_type": "markdown",
      "source": "# Set comprehensions. Dict comprehensions.",
      "metadata": {},
      "id": "59e0e44f"
    },
    {
      "cell_type": "markdown",
      "source": "Можно генерировать множества и словари по аналогии со списками:",
      "metadata": {},
      "id": "83b2e7ad"
    },
    {
      "cell_type": "code",
      "source": "a = [i for i in range(-5, 5)]\nprint(a)\na = {i for i in range(-5, 5)}\nprint(a)\na = [abs(i) for i in range(-5, 5)]\nprint(a)\na = {abs(i) for i in range(-5, 5)}\nprint(a)",
      "metadata": {},
      "execution_count": 101,
      "outputs": [
        {
          "name": "stdout",
          "output_type": "stream",
          "text": "[-5, -4, -3, -2, -1, 0, 1, 2, 3, 4]\n\n{0, 1, 2, 3, 4, -1, -5, -4, -3, -2}\n\n[5, 4, 3, 2, 1, 0, 1, 2, 3, 4]\n\n{0, 1, 2, 3, 4, 5}\n"
        }
      ],
      "id": "e19ab542"
    },
    {
      "cell_type": "markdown",
      "source": "Для определения порядкового номера символа в таблице символов ASCII используется функция `ord`:",
      "metadata": {},
      "id": "5e1eae9b"
    },
    {
      "cell_type": "code",
      "source": "s = \"a\"\nprint(ord(s))\nprint(ord('A'), ord('Z'), ord('a'), ord('z'))",
      "metadata": {},
      "execution_count": 102,
      "outputs": [
        {
          "name": "stdout",
          "output_type": "stream",
          "text": "97\n\n65 90 97 122\n"
        }
      ],
      "id": "0a141a96"
    },
    {
      "cell_type": "markdown",
      "source": "Обратная к ней функция, возвращающая символ по его порядковому номеру - `chr`:",
      "metadata": {},
      "id": "8ce05fc6"
    },
    {
      "cell_type": "code",
      "source": "print(chr(65), chr(90), chr(97), chr(122))",
      "metadata": {},
      "execution_count": 103,
      "outputs": [
        {
          "name": "stdout",
          "output_type": "stream",
          "text": "A Z a z\n"
        }
      ],
      "id": "0974a43c"
    },
    {
      "cell_type": "markdown",
      "source": "Создадим словарь, состоящий из пар элементов `номер буквы в таблице ASCII`: `буква`.",
      "metadata": {},
      "id": "cb0ffe6d"
    },
    {
      "cell_type": "code",
      "source": "d = {i: chr(i) for i in range(65, 91)}\nprint(d)\nprint(d[70])",
      "metadata": {},
      "execution_count": null,
      "outputs": [],
      "id": "4aed5b7e"
    },
    {
      "cell_type": "markdown",
      "source": "**Упражнение 4.** Создайте аналогичный словарь для маленьких букв, выведите его, затем добавьте в него большие буквы и выведите итоговый словарь.",
      "metadata": {},
      "id": "c1e21462"
    },
    {
      "cell_type": "code",
      "source": "d = {i: chr(i) for i in range(97, 97+26)}\nprint(d)\nfor i in range(65, 91):\n    d[i]=chr(i)\nprint(d)",
      "metadata": {},
      "execution_count": 7,
      "outputs": [
        {
          "ename": "NameError",
          "evalue": "name 'np' is not defined",
          "output_type": "error",
          "traceback": [
            "\u001b[0;31m---------------------------------------------------------------------------\u001b[0m",
            "\u001b[0;31mNameError\u001b[0m                                 Traceback (most recent call last)",
            "\u001b[0;32m/tmp/ipykernel_7863/1861352250.py\u001b[0m in \u001b[0;36m<module>\u001b[0;34m\u001b[0m\n\u001b[0;32m----> 1\u001b[0;31m \u001b[0ma\u001b[0m \u001b[0;34m=\u001b[0m \u001b[0mnp\u001b[0m\u001b[0;34m.\u001b[0m\u001b[0marray\u001b[0m\u001b[0;34m(\u001b[0m\u001b[0;34m[\u001b[0m\u001b[0;36m1\u001b[0m\u001b[0;34m,\u001b[0m \u001b[0;36m2\u001b[0m\u001b[0;34m,\u001b[0m \u001b[0;36m3\u001b[0m\u001b[0;34m]\u001b[0m\u001b[0;34m)\u001b[0m\u001b[0;34m\u001b[0m\u001b[0;34m\u001b[0m\u001b[0m\n\u001b[0m\u001b[1;32m      2\u001b[0m \u001b[0mb\u001b[0m \u001b[0;34m=\u001b[0m \u001b[0mnp\u001b[0m\u001b[0;34m.\u001b[0m\u001b[0marray\u001b[0m\u001b[0;34m(\u001b[0m\u001b[0;34m[\u001b[0m\u001b[0;36m3\u001b[0m\u001b[0;34m,\u001b[0m \u001b[0;36m0\u001b[0m\u001b[0;34m,\u001b[0m \u001b[0;34m-\u001b[0m\u001b[0;36m1\u001b[0m\u001b[0;34m]\u001b[0m\u001b[0;34m)\u001b[0m\u001b[0;34m\u001b[0m\u001b[0;34m\u001b[0m\u001b[0m\n\u001b[1;32m      3\u001b[0m \u001b[0mprint\u001b[0m\u001b[0;34m(\u001b[0m\u001b[0mnp\u001b[0m\u001b[0;34m.\u001b[0m\u001b[0mdot\u001b[0m\u001b[0;34m(\u001b[0m\u001b[0ma\u001b[0m\u001b[0;34m,\u001b[0m\u001b[0mb\u001b[0m\u001b[0;34m)\u001b[0m\u001b[0;34m/\u001b[0m\u001b[0;34m(\u001b[0m\u001b[0mnp\u001b[0m\u001b[0;34m.\u001b[0m\u001b[0mlinalg\u001b[0m\u001b[0;34m.\u001b[0m\u001b[0mnorm\u001b[0m\u001b[0;34m(\u001b[0m\u001b[0ma\u001b[0m\u001b[0;34m)\u001b[0m\u001b[0;34m*\u001b[0m\u001b[0mnp\u001b[0m\u001b[0;34m.\u001b[0m\u001b[0mlinalg\u001b[0m\u001b[0;34m.\u001b[0m\u001b[0mnorm\u001b[0m\u001b[0;34m(\u001b[0m\u001b[0mb\u001b[0m\u001b[0;34m)\u001b[0m\u001b[0;34m)\u001b[0m\u001b[0;34m)\u001b[0m\u001b[0;34m\u001b[0m\u001b[0;34m\u001b[0m\u001b[0m\n",
            "\u001b[0;31mNameError\u001b[0m: name 'np' is not defined"
          ]
        }
      ],
      "id": "bdc88da2"
    },
    {
      "cell_type": "markdown",
      "source": "**Упражнение 5.** Создайте словарь, в котором каждой букве (как ключу) будет соответствовать ее порядковый номер в алфавите (значение). Рекомендация: использовать функции `keys`, `values` или `items` для словаря из предыдущего упражнения, чтобы создать новый.",
      "metadata": {},
      "id": "a7c957f4"
    },
    {
      "cell_type": "code",
      "source": "d = dict()\nfor i in range(97, 97+26):\n    d[chr(i)]=i-96\nprint(d)",
      "metadata": {
        "trusted": true
      },
      "execution_count": 2,
      "outputs": [
        {
          "name": "stdout",
          "text": "{'a': 1, 'b': 2, 'c': 3, 'd': 4, 'e': 5, 'f': 6, 'g': 7, 'h': 8, 'i': 9, 'j': 10, 'k': 11, 'l': 12, 'm': 13, 'n': 14, 'o': 15, 'p': 16, 'q': 17, 'r': 18, 's': 19, 't': 20, 'u': 21, 'v': 22, 'w': 23, 'x': 24, 'y': 25, 'z': 26}\n",
          "output_type": "stream"
        }
      ],
      "id": "70071da3"
    },
    {
      "cell_type": "markdown",
      "source": "**Упражнение 6.** Считайте слово с клавиатуры и найдите для него сумму номеров букв. Если некоторые буквы в слове повторяются (используйте такое слово), нужно считать только по уникальным буквам. Например, для строк 'abc' и 'abcbc' сумма будет 1+2+3=6, для xyz или zyxyz 24+25+26=75",
      "metadata": {},
      "id": "d4d2ca80"
    },
    {
      "cell_type": "code",
      "source": "a=set(input())\ns=0\nfor x in a:\n    s+=ord(x)-96\nprint(s)",
      "metadata": {},
      "execution_count": null,
      "outputs": [],
      "id": "ab97878c"
    },
    {
      "cell_type": "markdown",
      "source": "**Упражнение 7.** Считайте с клавиатуры количество пар синонимов, затем сами пары синонимов, затем одно из слов среди этих пар. Выведите его синоним. Допишите код, заменив все TODO. Пример ввода:\n\n    3\n    Hello Hi\n    Bye Goodbye\n    List Array\n    Goodbye",
      "metadata": {},
      "id": "8cb4046e"
    },
    {
      "cell_type": "code",
      "source": "n = int(input())\nd = dict()\nfor i in range(n):\n    s = input().split()\n    d[s[0]]=s[1]\n    d[s[1]]=s[0]\ns=input()\nprint(d[s])",
      "metadata": {},
      "execution_count": null,
      "outputs": [],
      "id": "7aea4c21"
    },
    {
      "cell_type": "markdown",
      "source": "# Частотный анализ.",
      "metadata": {},
      "id": "d4f833ac"
    },
    {
      "cell_type": "markdown",
      "source": "Вместо использования метода `count` для подсчета числа вхождений символа в большой текст лучше использовать `dict`. Для многократного поиска это будет работать быстрее, так как мы заполним словарь за один проход по данному тексту.",
      "metadata": {},
      "id": "20546c74"
    },
    {
      "cell_type": "code",
      "source": "s = \"abracadabra\"\nd = dict()\nfor i in s:\n    if i in d:\n        d[i] += 1\n    else:\n        d[i] = 1\nprint(d)",
      "metadata": {},
      "execution_count": null,
      "outputs": [],
      "id": "97cbd7e4"
    },
    {
      "cell_type": "code",
      "source": "print(s.count('a'))\nprint(d['a'])",
      "metadata": {},
      "execution_count": null,
      "outputs": [],
      "id": "1e25a4b0"
    },
    {
      "cell_type": "code",
      "source": "s = \"abracadabra\" * 1000000\nprint(s[:100])",
      "metadata": {},
      "execution_count": null,
      "outputs": [],
      "id": "794b68f1"
    },
    {
      "cell_type": "code",
      "source": "import time\nd = dict()\nfor i in s:\n    if i in d:\n        d[i] += 1\n    else:\n        d[i] = 1\nt1 = time.time()\nprint(d['a'])\nt2 = time.time()\nprint(t2 - t1)",
      "metadata": {},
      "execution_count": null,
      "outputs": [],
      "id": "aaa4527a"
    },
    {
      "cell_type": "code",
      "source": "t3 = time.time()\nprint(s.count('a'))\nt4 = time.time()\nprint(t4 - t3)",
      "metadata": {},
      "execution_count": null,
      "outputs": [],
      "id": "0225f5e3"
    },
    {
      "cell_type": "markdown",
      "source": "**Упражнение 8**. Считайте с клавиатуры строку, удалите из нее все цифры и пробелы. Создайте словарь, в котором ключами будут уникальные символы, а значениями их частота вхождения. Частотой вхождения называется отношение числа вхождений данного символа в исходную строку к числу символов в исходной строке.",
      "metadata": {},
      "id": "fb903399"
    },
    {
      "cell_type": "code",
      "source": "a=input()\ns=[list(x) for x in a]\np=set()\nfor x in s:\n    p.add(x[0])\nfor x in p:\n    if ord(x) in range(48, 58):\n        p.replace(x, ' ')\np.discard(' ')\nd=dict()\nfor x in p:\n    d[x]=a.count(x)/len(a)\nprint(d)\n",
      "metadata": {},
      "execution_count": null,
      "outputs": [],
      "id": "a82c1e51"
    },
    {
      "cell_type": "markdown",
      "source": "# Collections.",
      "metadata": {},
      "id": "b082dac3"
    },
    {
      "cell_type": "markdown",
      "source": "Существуют также другие стандартные коллекции, которые позволяют решать некоторые задачи еще проще.",
      "metadata": {},
      "id": "ce4947f8"
    },
    {
      "cell_type": "code",
      "source": "import collections\ncnt = collections.Counter()\nfor word in ['red', 'blue', 'red', 'green', 'blue', 'blue']:\n    cnt[word] += 1\ncnt",
      "metadata": {},
      "execution_count": null,
      "outputs": [],
      "id": "57a20035"
    },
    {
      "cell_type": "code",
      "source": "cnt['red']",
      "metadata": {},
      "execution_count": null,
      "outputs": [],
      "id": "81553050"
    },
    {
      "cell_type": "markdown",
      "source": "Можно сократить запись, переимпортировав из библиотеки конкретный модуль:",
      "metadata": {},
      "id": "0834fd23"
    },
    {
      "cell_type": "code",
      "source": "from collections import Counter\nc = Counter(a=4, b=2, c=0, d=-2)\nprint(sorted(c.elements()))",
      "metadata": {},
      "execution_count": null,
      "outputs": [],
      "id": "4dd6f478"
    },
    {
      "cell_type": "code",
      "source": "print(collections.Counter('abracadabra').most_common(3))",
      "metadata": {},
      "execution_count": null,
      "outputs": [],
      "id": "d4c0fb62"
    },
    {
      "cell_type": "code",
      "source": "c = Counter(a=4, b=2, c=0, d=-2)\nd = Counter(a=1, b=2, c=3, d=4)\nc.subtract(d)\nprint(c)",
      "metadata": {},
      "execution_count": null,
      "outputs": [],
      "id": "77eec292"
    },
    {
      "cell_type": "code",
      "source": "c = Counter(a=10, b=5, c=0)\nc.total() # new for Python 3.10+",
      "metadata": {},
      "execution_count": null,
      "outputs": [],
      "id": "cb239bab"
    },
    {
      "cell_type": "markdown",
      "source": "С другими коллекциями вы можете познакомиться самостоятельно, их использование выходит за рамки упражнений и контеста.",
      "metadata": {},
      "id": "bfddca35"
    },
    {
      "cell_type": "code",
      "source": "",
      "metadata": {},
      "execution_count": null,
      "outputs": [],
      "id": "38c7c7d0"
    }
  ]
}