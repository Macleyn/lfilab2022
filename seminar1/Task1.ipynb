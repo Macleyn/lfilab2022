{
  "cells": [
    {
      "cell_type": "markdown",
      "metadata": {
        "id": "view-in-github",
        "colab_type": "text"
      },
      "source": [
        "<a href=\"https://colab.research.google.com/github/Macleyn/lfilab2022/blob/main/seminar1/Task1.ipynb\" target=\"_parent\"><img src=\"https://colab.research.google.com/assets/colab-badge.svg\" alt=\"Open In Colab\"/></a>"
      ]
    },
    {
      "cell_type": "code",
      "source": [
        "import unittest\n",
        "\n",
        "def sum(N):\n",
        "    result = 0\n",
        "    for i in range(N // 2):\n",
        "        result += N + 1\n",
        "    if N % 2 == 1:\n",
        "        result += N // 2 + 1\n",
        "    return result\n",
        "\n",
        "class TestSumFunction(unittest.TestCase):\n",
        "\n",
        "    def test_even_number(self):\n",
        "        self.assertEqual(sum(4), 10)  # 4 + 4 + 2 = 10\n",
        "\n",
        "    def test_odd_number(self):\n",
        "        self.assertEqual(sum(5), 15)  # 5 + 5 + 5 + 3 = 18\n",
        "\n",
        "    def test_zero(self):\n",
        "        self.assertEqual(sum(0), 0)\n",
        "\n",
        "    def test_one(self):\n",
        "        self.assertEqual(sum(1), 1)\n",
        "\n",
        "    def test_large_even_number(self):\n",
        "        self.assertEqual(sum(100), 5050)\n",
        "\n",
        "    def test_large_odd_number(self):\n",
        "        self.assertEqual(sum(101), 5151)\n",
        "\n",
        "if __name__ == '__main__':\n",
        "    unittest.main(argv=[''], exit=False)\n"
      ],
      "metadata": {
        "colab": {
          "base_uri": "https://localhost:8080/"
        },
        "id": "ctpcVoMlPjES",
        "outputId": "07e467f6-8287-4a54-d35a-4dd7f53ceb22"
      },
      "execution_count": 2,
      "outputs": [
        {
          "output_type": "stream",
          "name": "stderr",
          "text": [
            "...............\n",
            "----------------------------------------------------------------------\n",
            "Ran 15 tests in 0.016s\n",
            "\n",
            "OK\n"
          ]
        }
      ]
    }
  ],
  "metadata": {
    "kernelspec": {
      "display_name": "Python 3 (ipykernel)",
      "language": "python",
      "name": "python3"
    },
    "language_info": {
      "codemirror_mode": {
        "name": "ipython",
        "version": 3
      },
      "file_extension": ".py",
      "mimetype": "text/x-python",
      "name": "python",
      "nbconvert_exporter": "python",
      "pygments_lexer": "ipython3",
      "version": "3.8.10"
    },
    "colab": {
      "provenance": [],
      "include_colab_link": true
    }
  },
  "nbformat": 4,
  "nbformat_minor": 0
}