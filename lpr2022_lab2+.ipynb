{
  "metadata": {
    "kernelspec": {
      "name": "python",
      "display_name": "Python (Pyodide)",
      "language": "python"
    },
    "language_info": {
      "codemirror_mode": {
        "name": "python",
        "version": 3
      },
      "file_extension": ".py",
      "mimetype": "text/x-python",
      "name": "python",
      "nbconvert_exporter": "python",
      "pygments_lexer": "ipython3",
      "version": "3.8"
    }
  },
  "nbformat_minor": 5,
  "nbformat": 4,
  "cells": [
    {
      "cell_type": "markdown",
      "source": "## Двумерные списки",
      "metadata": {},
      "id": "5e2169fa"
    },
    {
      "cell_type": "markdown",
      "source": "\"Двумерный список\" — это обычный список, элементами которого являются списки. Такой термин удобен для нас, но для Python нет разницы между одномерными и двумерными списками. В частности, нечто такое вообще будет являться промежуточным: `[1, [2, 3, 4], 5]`\n\nСоздадим список и рассмотрим обращение к элементам.",
      "metadata": {},
      "id": "24411da1"
    },
    {
      "cell_type": "code",
      "source": "a = [[1, 2, 3], [4, 5, 6]]\nprint(*a)\nprint(a[1])\nprint(a[1][0])\nprint(a[-1][-1])",
      "metadata": {},
      "execution_count": 1,
      "outputs": [
        {
          "name": "stdout",
          "output_type": "stream",
          "text": "[1, 2, 3] [4, 5, 6]\n\n[4, 5, 6]\n\n4\n\n6\n"
        }
      ],
      "id": "bdba992b"
    },
    {
      "cell_type": "code",
      "source": "for i in range(len(a)):\n    print(*a[i])",
      "metadata": {},
      "execution_count": 2,
      "outputs": [
        {
          "name": "stdout",
          "output_type": "stream",
          "text": "1 2 3\n\n4 5 6\n"
        }
      ],
      "id": "29994282"
    },
    {
      "cell_type": "markdown",
      "source": "Для создания списка можем использовать генераторы:",
      "metadata": {},
      "id": "b88a9954"
    },
    {
      "cell_type": "code",
      "source": "a = [[1, 2, 3] for i in range(4)]\nfor i in range(len(a)):\n    print(*a[i])",
      "metadata": {},
      "execution_count": 3,
      "outputs": [
        {
          "name": "stdout",
          "output_type": "stream",
          "text": "1 2 3\n\n1 2 3\n\n1 2 3\n\n1 2 3\n"
        }
      ],
      "id": "4a2fb96f"
    },
    {
      "cell_type": "code",
      "source": "a = [[i, i+1, i+2] for i in range(4)]\nfor i in range(len(a)):\n    print(*a[i])",
      "metadata": {},
      "execution_count": 4,
      "outputs": [
        {
          "name": "stdout",
          "output_type": "stream",
          "text": "0 1 2\n\n1 2 3\n\n2 3 4\n\n3 4 5\n"
        }
      ],
      "id": "4f287c52"
    },
    {
      "cell_type": "code",
      "source": "for x in a:\n    print(*x)",
      "metadata": {},
      "execution_count": 6,
      "outputs": [
        {
          "name": "stdout",
          "output_type": "stream",
          "text": "0 1 2\n\n1 2 3\n\n2 3 4\n\n3 4 5\n"
        }
      ],
      "id": "f739ed7d"
    },
    {
      "cell_type": "code",
      "source": "print(a)",
      "metadata": {},
      "execution_count": 7,
      "outputs": [
        {
          "name": "stdout",
          "output_type": "stream",
          "text": "[[0, 1, 2], [1, 2, 3], [2, 3, 4], [3, 4, 5]]\n"
        }
      ],
      "id": "9a48cf74"
    },
    {
      "cell_type": "markdown",
      "source": "Вот пример создания списка списков при помощи генератора списка, *вложенного* в генератор списка:",
      "metadata": {},
      "id": "11dad1dc"
    },
    {
      "cell_type": "code",
      "source": "a = [[j for j in range(5)] for i in range(5)]\nfor x in a:\n    print(*x)",
      "metadata": {},
      "execution_count": 8,
      "outputs": [
        {
          "name": "stdout",
          "output_type": "stream",
          "text": "0 1 2 3 4\n\n0 1 2 3 4\n\n0 1 2 3 4\n\n0 1 2 3 4\n\n0 1 2 3 4\n"
        }
      ],
      "id": "dead9401"
    },
    {
      "cell_type": "markdown",
      "source": "**Упражнение:** создайте двумерный список. Заполните его следующим образом: значение элемента - номер его строки.",
      "metadata": {},
      "id": "02e09442"
    },
    {
      "cell_type": "code",
      "source": "a = [[j for i in range(5)] for j in range(5)]\nfor x in a:\n    print(*x)",
      "metadata": {},
      "execution_count": 18,
      "outputs": [
        {
          "name": "stdout",
          "output_type": "stream",
          "text": "0 0 0 0 0\n\n1 1 1 1 1\n\n2 2 2 2 2\n\n3 3 3 3 3\n\n4 4 4 4 4\n"
        }
      ],
      "id": "18ede4a8"
    },
    {
      "cell_type": "markdown",
      "source": "**Пример.** Напечатаем таблицу умножения $10*10$:",
      "metadata": {},
      "id": "16ce173d"
    },
    {
      "cell_type": "code",
      "source": "n, m = 10, 10\na = [[i * j for j in range(1, m + 1)] for i in range(1, n + 1)]\nfor x in a:\n    print(*x)",
      "metadata": {},
      "execution_count": null,
      "outputs": [],
      "id": "9b197df4"
    },
    {
      "cell_type": "markdown",
      "source": "## Тип bool. Оператор in. Еще раз про if.",
      "metadata": {},
      "id": "7b1d9a77"
    },
    {
      "cell_type": "markdown",
      "source": "Еще один базовый тип данных — это `bool`. Переменные такого типа могут принимать только 2 значения: `True` и `False`.",
      "metadata": {},
      "id": "e683d3d8"
    },
    {
      "cell_type": "code",
      "source": "print(1 > 0)",
      "metadata": {},
      "execution_count": null,
      "outputs": [],
      "id": "655cb743"
    },
    {
      "cell_type": "code",
      "source": "a = 1 > 0\nprint(a)",
      "metadata": {},
      "execution_count": null,
      "outputs": [],
      "id": "949f364b"
    },
    {
      "cell_type": "code",
      "source": "b = 1 < 0\nprint(b)",
      "metadata": {},
      "execution_count": null,
      "outputs": [],
      "id": "a9d556fc"
    },
    {
      "cell_type": "code",
      "source": "print(a * 5)\nprint(b * 3)",
      "metadata": {},
      "execution_count": null,
      "outputs": [],
      "id": "62ffde28"
    },
    {
      "cell_type": "markdown",
      "source": "Именно тип `bool` используется в каскадной конструкции `if elif ... else`:",
      "metadata": {},
      "id": "d33283e9"
    },
    {
      "cell_type": "code",
      "source": "if 1 > 0:\n    print(2)",
      "metadata": {},
      "execution_count": null,
      "outputs": [],
      "id": "44b85637"
    },
    {
      "cell_type": "markdown",
      "source": "Существует приведение типов. Любое число, отличное от нуля с логической точки зрения — `True`, нуль воспринимается как `False`",
      "metadata": {},
      "id": "ec682419"
    },
    {
      "cell_type": "code",
      "source": "if 5:\n    print(2)\nelse:\n    print(\"!\")",
      "metadata": {},
      "execution_count": null,
      "outputs": [],
      "id": "e34f6f82"
    },
    {
      "cell_type": "code",
      "source": "if 0:\n    print(4)\nelse:\n    print(\"!\")",
      "metadata": {},
      "execution_count": null,
      "outputs": [],
      "id": "5ca698d5"
    },
    {
      "cell_type": "code",
      "source": "for i in [1, 2, 3, 4, 5]:\n    print(i)",
      "metadata": {},
      "execution_count": null,
      "outputs": [],
      "id": "c655994b"
    },
    {
      "cell_type": "markdown",
      "source": "### Оператор `in`\nЛексема `in` может быть использована не только как часть синтаксической конструкции цикла `for`, но и как *оператор* для проверки принадлежности элемента итерируемому объекту:",
      "metadata": {},
      "id": "b92e2643"
    },
    {
      "cell_type": "code",
      "source": "print(4 in [1, 2, 3, 4, 5])\nprint(6 in [1, 2, 3, 4, 5])",
      "metadata": {},
      "execution_count": 21,
      "outputs": [
        {
          "name": "stdout",
          "output_type": "stream",
          "text": "True\n\nFalse\n"
        }
      ],
      "id": "27cce21b"
    },
    {
      "cell_type": "code",
      "source": "print(4 in range(1, 6))\nprint(6 in range(1, 6))",
      "metadata": {},
      "execution_count": 20,
      "outputs": [
        {
          "name": "stdout",
          "output_type": "stream",
          "text": "True\n\nFalse\n"
        }
      ],
      "id": "6c1545be"
    },
    {
      "cell_type": "code",
      "source": "print(\"b\" in \"abc\")\nprint(\"B\" in \"abc\")",
      "metadata": {},
      "execution_count": 19,
      "outputs": [
        {
          "name": "stdout",
          "output_type": "stream",
          "text": "True\n\nFalse\n"
        }
      ],
      "id": "256067bf"
    },
    {
      "cell_type": "markdown",
      "source": "## Функции, возвращающие значение\nФункции — это вспомогательные алгоритмы. ",
      "metadata": {},
      "id": "5fb27cad"
    },
    {
      "cell_type": "markdown",
      "source": "###  Логическое значение как результат работы функции\nНиже описаны три аналогичных функции. Прочитайте их тела и объясните почему они работают одинаково.\nКакая из них вам больше нравится?",
      "metadata": {},
      "id": "57f88b90"
    },
    {
      "cell_type": "code",
      "source": "def is_positive(x):\n    if x > 0:\n        return True\n    else:\n        return False\n    \nprint(is_positive(5))\nprint(is_positive(-5))",
      "metadata": {},
      "execution_count": 22,
      "outputs": [
        {
          "name": "stdout",
          "output_type": "stream",
          "text": "True\n\nFalse\n"
        }
      ],
      "id": "ef4f059c"
    },
    {
      "cell_type": "code",
      "source": "def is_positive(x):\n    if x > 0:\n        return True\n    return False\n\nprint(is_positive(5))\nprint(is_positive(-5))",
      "metadata": {},
      "execution_count": 23,
      "outputs": [
        {
          "name": "stdout",
          "output_type": "stream",
          "text": "True\n\nFalse\n"
        }
      ],
      "id": "dcdef58f"
    },
    {
      "cell_type": "code",
      "source": "def is_positive(x):\n    return x > 0\n\nprint(is_positive(5))\nprint(is_positive(-5))",
      "metadata": {},
      "execution_count": null,
      "outputs": [],
      "id": "b0431287"
    },
    {
      "cell_type": "markdown",
      "source": "## Функции как аргументы функций map и filter\nДля поэлементной обработки любого итерируемого объекта можно использовать функции `map` и `filter`:",
      "metadata": {},
      "id": "2c47bf96"
    },
    {
      "cell_type": "code",
      "source": "a = \"1 2 -3 4 -5\".split()\nprint(a)\na = list(map(int, a))\nprint(a)",
      "metadata": {},
      "execution_count": 24,
      "outputs": [
        {
          "name": "stdout",
          "output_type": "stream",
          "text": "['1', '2', '-3', '4', '-5']\n\n[1, 2, -3, 4, -5]\n"
        }
      ],
      "id": "f8670a5b"
    },
    {
      "cell_type": "code",
      "source": "a = \"1 2 -3 4 -5\".split()\nprint(a)\na = list(map(float, a))\nprint(a)",
      "metadata": {},
      "execution_count": 25,
      "outputs": [
        {
          "name": "stdout",
          "output_type": "stream",
          "text": "['1', '2', '-3', '4', '-5']\n\n[1.0, 2.0, -3.0, 4.0, -5.0]\n"
        }
      ],
      "id": "84d9f84c"
    },
    {
      "cell_type": "code",
      "source": "a = \"1 2 -3 4 -5 0\".split()\nprint(a)\na = list(map(bool, a))\nprint(a)",
      "metadata": {},
      "execution_count": 26,
      "outputs": [
        {
          "name": "stdout",
          "output_type": "stream",
          "text": "['1', '2', '-3', '4', '-5', '0']\n\n[True, True, True, True, True, True]\n"
        }
      ],
      "id": "1bcae2a6"
    },
    {
      "cell_type": "code",
      "source": "a = \"1 2 -3 4 -5 0\".split()\nprint(a)\na = list(map(int, a))\nprint(a)\na = list(map(bool, a))\nprint(a)",
      "metadata": {},
      "execution_count": 27,
      "outputs": [
        {
          "name": "stdout",
          "output_type": "stream",
          "text": "['1', '2', '-3', '4', '-5', '0']\n\n[1, 2, -3, 4, -5, 0]\n\n[True, True, True, True, True, False]\n"
        }
      ],
      "id": "13a826c6"
    },
    {
      "cell_type": "markdown",
      "source": "Как параметр для `map` можно передавать не только стандартные функции, но и свои собственные:",
      "metadata": {},
      "id": "8c28c10b"
    },
    {
      "cell_type": "code",
      "source": "def my_function(x):\n    return x * 2\n\na = \"1 2 -3 4 -5\".split()\nprint(a)\na = list(map(my_function, a))\nprint(a)",
      "metadata": {},
      "execution_count": 28,
      "outputs": [
        {
          "name": "stdout",
          "output_type": "stream",
          "text": "['1', '2', '-3', '4', '-5']\n\n['11', '22', '-3-3', '44', '-5-5']\n"
        }
      ],
      "id": "80527cdc"
    },
    {
      "cell_type": "markdown",
      "source": "Такие \"одноразовые функции\" загрязняют пространство имён, поэтому есть возможность создать **безымянную функцию** при помощи слова `lambda`. Вычисляясь, лямбда-выражение \"изготавливает\" новую функцию и передаёт её как объект туда, где она нужна — в функцию `map`. Затем она сразу забывается.",
      "metadata": {},
      "id": "7d192c9d"
    },
    {
      "cell_type": "code",
      "source": "a = \"1 2 -3 4 -5\".split()\nprint(a)\na = list(map(lambda x: x * 2, a))\nprint(a)",
      "metadata": {},
      "execution_count": 29,
      "outputs": [
        {
          "name": "stdout",
          "output_type": "stream",
          "text": "['1', '2', '-3', '4', '-5']\n\n['11', '22', '-3-3', '44', '-5-5']\n"
        }
      ],
      "id": "ce922e96"
    },
    {
      "cell_type": "code",
      "source": "a = [1, 2, -3, 4, -5]\nb = list(map(is_positive, a))\nc = list(filter(is_positive, a))\nprint(b)\nprint(c)",
      "metadata": {},
      "execution_count": 30,
      "outputs": [
        {
          "name": "stdout",
          "output_type": "stream",
          "text": "[True, True, False, True, False]\n\n[1, 2, 4]\n"
        }
      ],
      "id": "959c6572"
    },
    {
      "cell_type": "code",
      "source": "a = [1, 2, -3, 4, -5]\nb = list(map(lambda x: x > 0, a))\nc = list(filter(lambda x: x > 0, a))\nprint(b)\nprint(c)",
      "metadata": {},
      "execution_count": 31,
      "outputs": [
        {
          "name": "stdout",
          "output_type": "stream",
          "text": "[True, True, False, True, False]\n\n[1, 2, 4]\n"
        }
      ],
      "id": "fd2a87e6"
    },
    {
      "cell_type": "markdown",
      "source": "Можем делать \"сложную\" лямбда-функцию:",
      "metadata": {},
      "id": "7313cf30"
    },
    {
      "cell_type": "code",
      "source": "a = \"1 2 -3 4 -5\".split()\nprint(a)\na = list(map(lambda x: abs(int(x)), a))\nprint(a)",
      "metadata": {},
      "execution_count": 34,
      "outputs": [
        {
          "name": "stdout",
          "output_type": "stream",
          "text": "['1', '2', '-3', '4', '-5']\n\n[1, 2, 3, 4, 5]\n"
        }
      ],
      "id": "bf6a53b0"
    },
    {
      "cell_type": "markdown",
      "source": "**Упражнение:** считайте список с клавиатуры. С помощью функции `filter` удалите из него те элементы, которые *не* являются квадратами однозначных натуральных чисел.",
      "metadata": {},
      "id": "cced2f0d"
    },
    {
      "cell_type": "code",
      "source": "s =\"1 2 3 4 5 66 7 9 88\"\na = list(map(int, s.split()))\nc = list(filter(lambda x: (x**(1/2)==int(x**(1/2)) and (x <10)), a))\nprint(c)",
      "metadata": {
        "trusted": true
      },
      "execution_count": 6,
      "outputs": [
        {
          "name": "stdout",
          "text": "[1, 4, 9]\n",
          "output_type": "stream"
        }
      ],
      "id": "470b80f3"
    },
    {
      "cell_type": "markdown",
      "source": "Можно использовать `map` для обработки считанного списка. Считываем с помощью функции `input()` объект типа `str`, к нему применяем метод `split()` и получаем `list`, ко всем его элементам функция `map` применяет функцию `int`, а конструктор списка `list` сохраняет результат в список:",
      "metadata": {},
      "id": "07f6cc31"
    },
    {
      "cell_type": "code",
      "source": "a = list(map(int, input().split()))\nprint(a)",
      "metadata": {},
      "execution_count": null,
      "outputs": [],
      "id": "5880334d"
    },
    {
      "cell_type": "code",
      "source": "a = [list(map(int, input().split())) for i in range(5)]",
      "metadata": {
        "scrolled": true
      },
      "execution_count": null,
      "outputs": [],
      "id": "513e32ed"
    },
    {
      "cell_type": "code",
      "source": "for x in a:\n    print(*x)",
      "metadata": {},
      "execution_count": null,
      "outputs": [],
      "id": "2a2fa26e"
    },
    {
      "cell_type": "markdown",
      "source": "Пример: удалить из матрицы строки с отрицательной суммой",
      "metadata": {},
      "id": "8be0994e"
    },
    {
      "cell_type": "code",
      "source": "a = [[5, -2, 3], [-1, 2, -3], [-8, 4, 5]]\nfor x in a:\n    print(*x)",
      "metadata": {},
      "execution_count": null,
      "outputs": [],
      "id": "4b7291f3"
    },
    {
      "cell_type": "code",
      "source": "a = list(filter(lambda x: sum(x) >= 0, a))\nprint(a)",
      "metadata": {},
      "execution_count": null,
      "outputs": [],
      "id": "107988bd"
    },
    {
      "cell_type": "code",
      "source": "print(sum(a[0]), sum(a[1]))",
      "metadata": {},
      "execution_count": null,
      "outputs": [],
      "id": "af8eb227"
    },
    {
      "cell_type": "markdown",
      "source": "И еще примеры:",
      "metadata": {},
      "id": "9687cb48"
    },
    {
      "cell_type": "code",
      "source": "a = [1, 2, 3, 4, 5]\nprint(list(map(lambda x: x ** 2, a)))",
      "metadata": {},
      "execution_count": null,
      "outputs": [],
      "id": "a25dae6f"
    },
    {
      "cell_type": "code",
      "source": "a = [1, 2, -3, 4, -5]\nprint(list(map(lambda x: x if x >= 0 else 0, a)))",
      "metadata": {},
      "execution_count": null,
      "outputs": [],
      "id": "7615424a"
    },
    {
      "cell_type": "markdown",
      "source": "## Цикл while. Целочисленная арифметика",
      "metadata": {},
      "id": "3f3d2d44"
    },
    {
      "cell_type": "markdown",
      "source": "Кроме цикла `for` в Python используется цикл `while`. Например, он удобен, если нужно указать условие выхода через условие типа `bool`",
      "metadata": {},
      "id": "7feb1357"
    },
    {
      "cell_type": "code",
      "source": "i = 0\nwhile i < 5:\n    print(i ** 2)\n    i += 1",
      "metadata": {},
      "execution_count": null,
      "outputs": [],
      "id": "123b28fb"
    },
    {
      "cell_type": "code",
      "source": "for i in range(5):\n    print(i ** 2)",
      "metadata": {},
      "execution_count": null,
      "outputs": [],
      "id": "5ee7473f"
    },
    {
      "cell_type": "markdown",
      "source": "Еще две арифметические операции, которые потребуются в примере ниже: деление с остатком и целочисленное деление.",
      "metadata": {},
      "id": "3aa86ea4"
    },
    {
      "cell_type": "code",
      "source": "print(16 % 3)\nprint(16 // 3)",
      "metadata": {},
      "execution_count": null,
      "outputs": [],
      "id": "69f54375"
    },
    {
      "cell_type": "markdown",
      "source": "С помощью цикла `while` удобно обращаться к отдельным цифрам числа. Например, можно сохранить их в массив:",
      "metadata": {},
      "id": "85197c8d"
    },
    {
      "cell_type": "code",
      "source": "a = []\nn = 2345\nwhile n > 0:\n    a.append(n % 10)\n    n = n // 10\nprint(a)",
      "metadata": {},
      "execution_count": null,
      "outputs": [],
      "id": "6488a45d"
    },
    {
      "cell_type": "markdown",
      "source": "**Упражнение:** напишите функцию, которая вычисляет сумму цифр числа, считайте число с клавиатуры и примените эту функцию.",
      "metadata": {},
      "id": "73cfba6a"
    },
    {
      "cell_type": "code",
      "source": "def summa_tsifr(a):\n    b = 0\n    while a > 0:\n        b = b + a%10\n        a = a//10\n    print(b)\nsumma_tsifr(int(input()))",
      "metadata": {},
      "execution_count": 40,
      "outputs": [
        {
          "name": "stdout",
          "output_type": "stream",
          "text": "123456789\n\n45\n"
        }
      ],
      "id": "91628376"
    },
    {
      "cell_type": "markdown",
      "source": "Можно запустить \"бесконечный цикл\" (он ничем не отличается от обычного). Внутри циклов можно использовать конструкции `break` и `continue`:",
      "metadata": {},
      "id": "7c9dc0fd"
    },
    {
      "cell_type": "code",
      "source": "while True:\n    a = int(input())\n    print(a)",
      "metadata": {},
      "execution_count": null,
      "outputs": [],
      "id": "8794783c"
    },
    {
      "cell_type": "markdown",
      "source": "Для прерывания работы ячейки можно нажать на квадратик.",
      "metadata": {},
      "id": "254a4a65"
    },
    {
      "cell_type": "code",
      "source": "while True:\n    a = int(input())\n    if a > 0:\n        print(a)\n    else:\n        break",
      "metadata": {},
      "execution_count": null,
      "outputs": [],
      "id": "46735686"
    },
    {
      "cell_type": "code",
      "source": "while True:\n    a = int(input())\n    if a > 0:\n        continue\n    else:\n        break",
      "metadata": {},
      "execution_count": null,
      "outputs": [],
      "id": "e41787fb"
    },
    {
      "cell_type": "markdown",
      "source": "## Работа с файлами",
      "metadata": {},
      "id": "5da20e2f"
    },
    {
      "cell_type": "markdown",
      "source": "Пример: создайте файл input.txt, скопируйте туда таблицу с числами ниже:\n\n    1 2 3\n    4 5 6",
      "metadata": {},
      "id": "84e27eb5"
    },
    {
      "cell_type": "code",
      "source": "with open(\"input.txt\", \"r\") as f:\n    print(f.read())",
      "metadata": {},
      "execution_count": 41,
      "outputs": [
        {
          "name": "stdout",
          "output_type": "stream",
          "text": "?? ??? 9 90\n\n??? ??? 10 91\n\n??? ??? 11 92\n\n??? ?? 9 93\n"
        }
      ],
      "id": "1ade4721"
    },
    {
      "cell_type": "code",
      "source": "with open(\"input.txt\", \"r\") as f:\n    s = f.read()\n    print(s)\n    ",
      "metadata": {},
      "execution_count": null,
      "outputs": [],
      "id": "17a0572d"
    },
    {
      "cell_type": "code",
      "source": "s, type(s)",
      "metadata": {
        "trusted": true
      },
      "execution_count": 18,
      "outputs": [
        {
          "execution_count": 18,
          "output_type": "execute_result",
          "data": {
            "text/plain": "(10, int)"
          },
          "metadata": {}
        }
      ],
      "id": "7cb5784c"
    },
    {
      "cell_type": "markdown",
      "source": "Так выглядит внутреннее представление строки `s`. Когда мы вызываем функцию `print` символ переноса строки `\\n` переводит курсор на новую строку:",
      "metadata": {},
      "id": "7e855b29"
    },
    {
      "cell_type": "code",
      "source": "print(\"1\\n2\")",
      "metadata": {},
      "execution_count": 44,
      "outputs": [
        {
          "name": "stdout",
          "output_type": "stream",
          "text": "1\n\n2\n"
        }
      ],
      "id": "4a95cf02"
    },
    {
      "cell_type": "code",
      "source": "with open(\"input.txt\", \"r\") as f:\n    a = f.readlines()\nprint(a)",
      "metadata": {},
      "execution_count": null,
      "outputs": [],
      "id": "248a5e4f"
    },
    {
      "cell_type": "markdown",
      "source": "Напомним, что `rstrip()` удаляет пробельные элементы из конца строки, в частности, символ переноса строки",
      "metadata": {},
      "id": "45273c92"
    },
    {
      "cell_type": "code",
      "source": "with open(\"input.txt\", \"r\") as f:\n    a = f.readlines()\n    a = list(map(lambda x: x.rstrip(), a))\nprint(a)",
      "metadata": {},
      "execution_count": null,
      "outputs": [],
      "id": "5fcc6108"
    },
    {
      "cell_type": "code",
      "source": "with open(\"input.txt\", \"r\") as f:\n    a = f.readlines()\n    a = list(map(lambda x: x.rstrip().split(), a))\nprint(a)",
      "metadata": {},
      "execution_count": null,
      "outputs": [],
      "id": "ee6bbeb0"
    },
    {
      "cell_type": "code",
      "source": "with open(\"input.txt\", \"r\") as f:\n    a = f.readlines()\n    a = list(map(lambda x: [int(y) for y in x.rstrip().split()], a))\nprint(a)",
      "metadata": {},
      "execution_count": null,
      "outputs": [],
      "id": "c2625d49"
    },
    {
      "cell_type": "markdown",
      "source": "Или проще:",
      "metadata": {},
      "id": "1c2446d3"
    },
    {
      "cell_type": "code",
      "source": "with open(\"input.txt\", \"r\") as f:\n    a = f.readlines()\n    a = list(map(lambda x: x.rstrip().split(), a))\n    for i in range(len(a)):\n        for j in range(len(a[i])):\n            a[i][j] = int(a[i][j])\nprint(a)",
      "metadata": {},
      "execution_count": null,
      "outputs": [],
      "id": "dba4f550"
    },
    {
      "cell_type": "markdown",
      "source": "**Пример:** в созданный файл запишем вместо чисел, которые там были, новые числа, равные квадратам исходных",
      "metadata": {},
      "id": "50cd4323"
    },
    {
      "cell_type": "code",
      "source": "b = [[a[i][j] ** 2 for j in range(len(a[i]))] for i in range(len(a))]\nprint(b)",
      "metadata": {},
      "execution_count": null,
      "outputs": [],
      "id": "b38bd1b9"
    },
    {
      "cell_type": "code",
      "source": "with open(\"output.txt\", \"w\") as f:\n    f.writelines([\" \".join(x) for x in b])",
      "metadata": {},
      "execution_count": null,
      "outputs": [],
      "id": "6ca144a2"
    },
    {
      "cell_type": "code",
      "source": "b = [[str(x) for x in b[i]] for i in range(len(b))]\nwith open(\"output.txt\", \"w\") as f:\n    f.writelines([\" \".join(x) for x in b])",
      "metadata": {},
      "execution_count": null,
      "outputs": [],
      "id": "82b7feff"
    },
    {
      "cell_type": "markdown",
      "source": "Посмотрите, что записалось в файл. Не совсем то, что нужно, не хватает символов переноса строки",
      "metadata": {},
      "id": "d7798cae"
    },
    {
      "cell_type": "code",
      "source": "b = [[str(x) for x in b[i]] for i in range(len(b))]\nwith open(\"output.txt\", \"w\") as f:\n    f.writelines([\" \".join(x) + \"\\n\" for x in b])",
      "metadata": {},
      "execution_count": null,
      "outputs": [],
      "id": "a95188de"
    },
    {
      "cell_type": "markdown",
      "source": "Файлы можно открывать не только на запись, но и на дозапись. Обратите внимание, что в предыдущей ячейке предыдущее сожержимое файла стерлось запуском `open`, для этого используем флажок `a` вместо `w`",
      "metadata": {},
      "id": "648228d0"
    },
    {
      "cell_type": "code",
      "source": "b = [[str(x) for x in b[i]] for i in range(len(b))]\nwith open(\"output.txt\", \"a\") as f:\n    f.write(\"done!\")",
      "metadata": {},
      "execution_count": null,
      "outputs": [],
      "id": "acadb95e"
    },
    {
      "cell_type": "markdown",
      "source": "## Сортировка списков",
      "metadata": {},
      "id": "f9b894ad"
    },
    {
      "cell_type": "markdown",
      "source": "Не углубляясь в алгоритмы, разберем, как можно сортировать списки в Python. Для этого есть функции `sort` и `sorted`. Первая изменяет сортируемый объект, вторая создает новый, а исходный остается:",
      "metadata": {},
      "id": "735cd12e"
    },
    {
      "cell_type": "code",
      "source": "a = [3, 1, 5, 4, 2]\na.sort()\nprint(a)",
      "metadata": {},
      "execution_count": 45,
      "outputs": [
        {
          "name": "stdout",
          "output_type": "stream",
          "text": "[1, 2, 3, 4, 5]\n"
        }
      ],
      "id": "93cd612d"
    },
    {
      "cell_type": "code",
      "source": "a = [3, 1, 5, 4, 2]\nprint(sorted(a))\nprint(a)",
      "metadata": {},
      "execution_count": 46,
      "outputs": [
        {
          "name": "stdout",
          "output_type": "stream",
          "text": "[1, 2, 3, 4, 5]\n\n[3, 1, 5, 4, 2]\n"
        }
      ],
      "id": "2886bb09"
    },
    {
      "cell_type": "markdown",
      "source": "Но можем использовать вторую вместо первой:",
      "metadata": {},
      "id": "35933e8e"
    },
    {
      "cell_type": "code",
      "source": "a = [3, 1, 5, 4, 2]\na = sorted(a)\nprint(a)",
      "metadata": {},
      "execution_count": 47,
      "outputs": [
        {
          "name": "stdout",
          "output_type": "stream",
          "text": "[1, 2, 3, 4, 5]\n"
        }
      ],
      "id": "953f6807"
    },
    {
      "cell_type": "markdown",
      "source": "Сортировка по ключу. key - это второй параметр функции `sorted` и он часто записывает в виде лямбда-функции, которая возвращает функции от объектов, которые мы используем в качестве меры этих объектов для сортировки",
      "metadata": {},
      "id": "a4b08cda"
    },
    {
      "cell_type": "code",
      "source": "a = [3, 1, 5, 4, 2]\na = sorted(a, key = lambda x: -x)\nprint(a)",
      "metadata": {},
      "execution_count": 48,
      "outputs": [
        {
          "name": "stdout",
          "output_type": "stream",
          "text": "[5, 4, 3, 2, 1]\n"
        }
      ],
      "id": "7acaea5d"
    },
    {
      "cell_type": "code",
      "source": "a = [[1, 5], [3, 3], [5, 5], [3, 0]]\nprint(sorted(a, key = lambda x: sum(x)))",
      "metadata": {},
      "execution_count": 49,
      "outputs": [
        {
          "name": "stdout",
          "output_type": "stream",
          "text": "[[3, 0], [1, 5], [3, 3], [5, 5]]\n"
        }
      ],
      "id": "999810ba"
    },
    {
      "cell_type": "code",
      "source": "a = [[1, 5], [3, 3], [5, 5], [3, 0]]\nprint(sorted(a, key = lambda x: x[0] ** 2 + x[1] ** 2))",
      "metadata": {},
      "execution_count": 50,
      "outputs": [
        {
          "name": "stdout",
          "output_type": "stream",
          "text": "[[3, 0], [3, 3], [1, 5], [5, 5]]\n"
        }
      ],
      "id": "5ea4f6f5"
    },
    {
      "cell_type": "markdown",
      "source": "Можем сортировать по нескольким параметрам в порядке убывания приоритета:",
      "metadata": {},
      "id": "36ab77a2"
    },
    {
      "cell_type": "code",
      "source": "a = [[1, 6], [2, 5], [3, 4]]\nprint(sorted(a, key = lambda x: (sum(x), x[1])))",
      "metadata": {},
      "execution_count": 51,
      "outputs": [
        {
          "name": "stdout",
          "output_type": "stream",
          "text": "[[3, 4], [2, 5], [1, 6]]\n"
        }
      ],
      "id": "53845f34"
    },
    {
      "cell_type": "markdown",
      "source": "`(sum(x), x[1])` - это кортеж. Кортежи похожи на списки, но они неизменяемы (нельзя присваивать по индексу и добавлять элементы)",
      "metadata": {},
      "id": "7d0ad4e6"
    },
    {
      "cell_type": "code",
      "source": "a = [1, 2]\na[1] = 3\nprint(a)",
      "metadata": {},
      "execution_count": 52,
      "outputs": [
        {
          "name": "stdout",
          "output_type": "stream",
          "text": "[1, 3]\n"
        }
      ],
      "id": "009d6082"
    },
    {
      "cell_type": "code",
      "source": "a = (1, 2)\na[1] = 3\nprint(a)",
      "metadata": {},
      "execution_count": null,
      "outputs": [],
      "id": "435c3f6c"
    },
    {
      "cell_type": "code",
      "source": "a = [1, 2]\na.append(3)\nprint(a)",
      "metadata": {},
      "execution_count": 53,
      "outputs": [
        {
          "name": "stdout",
          "output_type": "stream",
          "text": "[1, 2, 3]\n"
        }
      ],
      "id": "96e37c3d"
    },
    {
      "cell_type": "code",
      "source": "a = [1, 2]\na.append(3)\nprint(a)",
      "metadata": {
        "trusted": true
      },
      "execution_count": 17,
      "outputs": [
        {
          "name": "stdout",
          "text": "[1, 2, 3]\n",
          "output_type": "stream"
        }
      ],
      "id": "f5a32233"
    },
    {
      "cell_type": "code",
      "source": "a = [1, 2]\na = [3, 4]\nprint(a)",
      "metadata": {},
      "execution_count": 55,
      "outputs": [
        {
          "name": "stdout",
          "output_type": "stream",
          "text": "[3, 4]\n"
        }
      ],
      "id": "1b626f89"
    },
    {
      "cell_type": "code",
      "source": "a = (1, 2)\na = (3, 4)\nprint(a)",
      "metadata": {},
      "execution_count": 56,
      "outputs": [
        {
          "name": "stdout",
          "output_type": "stream",
          "text": "(3, 4)\n"
        }
      ],
      "id": "0fa7c68a"
    },
    {
      "cell_type": "markdown",
      "source": "Строки сортируются в лексикографическом порядке:",
      "metadata": {},
      "id": "7f6bc90e"
    },
    {
      "cell_type": "code",
      "source": "a = [\"100\", \"11\", \"12\", \"120\", \"119\"]\nprint(sorted(a))",
      "metadata": {},
      "execution_count": 57,
      "outputs": [
        {
          "name": "stdout",
          "output_type": "stream",
          "text": "['100', '11', '119', '12', '120']\n"
        }
      ],
      "id": "7f7b871b"
    },
    {
      "cell_type": "code",
      "source": "a = [\"100\", \"11\", \"12\", \"120\", \"119\"]\nprint(sorted(a, key = lambda x: int(x)))",
      "metadata": {},
      "execution_count": 58,
      "outputs": [
        {
          "name": "stdout",
          "output_type": "stream",
          "text": "['11', '12', '100', '119', '120']\n"
        }
      ],
      "id": "7579dcda"
    },
    {
      "cell_type": "markdown",
      "source": "## Снова к файлам",
      "metadata": {},
      "id": "e58bbfcc"
    },
    {
      "cell_type": "markdown",
      "source": "**Пример:** дана таблица результатов олимпиады в формате \"Фамилия Имя Класс Балл\". Нужно скопировать ее в текстовый файл и считать в двумерный массив. Задача - определить фамилию и имя победителя олимпиады. Если их несколько, вывести первого в лексикографическом порядке.\n\nРешение: считаем данные в двумерный список. Отсортируем его по убыванию балла и по возрастанию ФИ.\n\nТаблица:\n\n    Иванов Сергей 9 90\n    Сергеев Петр 10 85\n    Петров Иван 11 90",
      "metadata": {},
      "id": "c4583973"
    },
    {
      "cell_type": "code",
      "source": "with open(\"input.txt\", \"r\", encoding=\"utf-8\") as f:\n    a = list(map(lambda x: x.rstrip().split(), f.readlines()))\n    print(a)",
      "metadata": {},
      "execution_count": null,
      "outputs": [],
      "id": "1295ab84"
    },
    {
      "cell_type": "code",
      "source": "print(sorted(a, key = lambda x: (-int(x[3]), x[0], x[1])))",
      "metadata": {},
      "execution_count": null,
      "outputs": [],
      "id": "e102afba"
    },
    {
      "cell_type": "code",
      "source": "print(\" \".join(sorted(a, key = lambda x: (-int(x[3]), x[0], x[1]))[0][:2]))",
      "metadata": {},
      "execution_count": null,
      "outputs": [],
      "id": "8c29b96e"
    },
    {
      "cell_type": "markdown",
      "source": "## Генераторы и отложенные вычисления",
      "metadata": {},
      "id": "c233c0df"
    },
    {
      "cell_type": "code",
      "source": "def foo(x):\n    print(f\"foo called for {x}\")\n    return x * 10\n\nfor x in map(foo, [1, 2, 3]):\n    print(x)",
      "metadata": {},
      "execution_count": null,
      "outputs": [],
      "id": "d2c31a60"
    },
    {
      "cell_type": "code",
      "source": "def foo(x):\n    print(f\"foo called for {x}\")\n    return x * 10\n\ndef boo(x):\n    print(f\"foo called for {x}\")\n    return x + 1000\n\nA = [1, 2, 3]\nB = map(foo, A)\nC = map(boo, B)\nprint(\"Iterations start:\")\nfor x in C:\n    print(x)",
      "metadata": {},
      "execution_count": null,
      "outputs": [],
      "id": "471d3f6d"
    },
    {
      "cell_type": "markdown",
      "source": "## Итерируемые объекты",
      "metadata": {},
      "id": "b9b2c2a5"
    },
    {
      "cell_type": "markdown",
      "source": "Часто бывает удобно использовать *распаковку* переменных:",
      "metadata": {},
      "id": "28ad489b"
    },
    {
      "cell_type": "code",
      "source": "a, b = 1, 2\nprint(a)\nprint(b)",
      "metadata": {},
      "execution_count": null,
      "outputs": [],
      "id": "5dd09d97"
    },
    {
      "cell_type": "code",
      "source": "a, b, c = [1, 2, 3]\nprint(a)\nprint(b)\nprint(c)",
      "metadata": {},
      "execution_count": null,
      "outputs": [],
      "id": "f6d9de19"
    },
    {
      "cell_type": "code",
      "source": "a, b, c = [1, 2, 3, 4, 5]",
      "metadata": {},
      "execution_count": null,
      "outputs": [],
      "id": "8a7bc4c0"
    },
    {
      "cell_type": "code",
      "source": "*a, b, c = [1, 2, 3, 4, 5]\nprint(a, b, c)",
      "metadata": {},
      "execution_count": null,
      "outputs": [],
      "id": "824efb53"
    },
    {
      "cell_type": "code",
      "source": "a, *b, c = [1, 2, 3, 4, 5]\nprint(a, b, c)",
      "metadata": {},
      "execution_count": null,
      "outputs": [],
      "id": "6bae667a"
    },
    {
      "cell_type": "code",
      "source": "a, b, *c = [1, 2, 3, 4, 5]\nprint(a, b, c)",
      "metadata": {},
      "execution_count": null,
      "outputs": [],
      "id": "b59f365f"
    },
    {
      "cell_type": "code",
      "source": "for a, b, c in [(1, 2, 3), (4, 5, 6), (7, 8, 9)]:\n    print(a, b, c)",
      "metadata": {},
      "execution_count": null,
      "outputs": [],
      "id": "207af4f8"
    },
    {
      "cell_type": "code",
      "source": "for a, *b in [(1, 2, 3, 4), (10, 20), (100, 200, 300)]:\n    print(a, b)",
      "metadata": {},
      "execution_count": null,
      "outputs": [],
      "id": "5f2be0ff"
    },
    {
      "cell_type": "code",
      "source": "a, (b, c) = [1, (2, 3)]\nprint(a, b, c)",
      "metadata": {},
      "execution_count": null,
      "outputs": [],
      "id": "866f2440"
    },
    {
      "cell_type": "markdown",
      "source": "### enumerate, zip, for с распаковкой ",
      "metadata": {},
      "id": "765afc8a"
    },
    {
      "cell_type": "markdown",
      "source": "В цикле `for` также можно использовать распаковку:",
      "metadata": {},
      "id": "5fa29a5a"
    },
    {
      "cell_type": "code",
      "source": "a = [[1, 2], [3, 4], [5, 6]]\nfor x, y in a:\n    print(x, y, x + y)",
      "metadata": {},
      "execution_count": null,
      "outputs": [],
      "id": "e3e3cb71"
    },
    {
      "cell_type": "markdown",
      "source": "Часто такая распаковка используется не сама по себе, а вместе с использованием удобных функций `zip` и `enumerate`, которые позволяют удобнее работать со списками:",
      "metadata": {},
      "id": "2bb6559b"
    },
    {
      "cell_type": "code",
      "source": "a = [[1, 2, 3], [4, 5, 6], [7, 8, 9], [0, 0, 0]]\nfor i, x in enumerate(a):\n    print(i, x, sum(x))",
      "metadata": {},
      "execution_count": null,
      "outputs": [],
      "id": "d35a510a"
    },
    {
      "cell_type": "code",
      "source": "with open(\"1.txt\", \"w\") as f:\n    f.writelines([word + \"\\n\" for word in [\"dog\", \"cat\", \"mouse\", \"duck\", \"goose\"]])\nfor line in open(\"1.txt\"):\n    print(line.strip())",
      "metadata": {},
      "execution_count": null,
      "outputs": [],
      "id": "70889557"
    },
    {
      "cell_type": "code",
      "source": "for i, x in enumerate(open(\"1.txt\")):\n    print(i, x.rstrip())",
      "metadata": {
        "scrolled": true
      },
      "execution_count": null,
      "outputs": [],
      "id": "a34d5858"
    },
    {
      "cell_type": "code",
      "source": "a = [\"ab\", \"cd\", \"ef\"]\nb = [1, 2, 3]\nprint(list(zip(a, b)))",
      "metadata": {
        "trusted": true
      },
      "execution_count": 8,
      "outputs": [
        {
          "name": "stdout",
          "text": "[('ab', 1), ('cd', 2), ('ef', 3)]\n",
          "output_type": "stream"
        }
      ],
      "id": "5f28d35c"
    },
    {
      "cell_type": "code",
      "source": "for a, b in zip(\"abcde\", range(5)):\n    print(a, b)",
      "metadata": {
        "trusted": true
      },
      "execution_count": 9,
      "outputs": [
        {
          "name": "stdout",
          "text": "a 0\nb 1\nc 2\nd 3\ne 4\n",
          "output_type": "stream"
        }
      ],
      "id": "8f44fcfd"
    },
    {
      "cell_type": "code",
      "source": "for a, b in zip(\"abcde\", range(10)):\n    print(a, b)",
      "metadata": {},
      "execution_count": null,
      "outputs": [],
      "id": "172870c2"
    },
    {
      "cell_type": "markdown",
      "source": "## itertools",
      "metadata": {},
      "id": "9b5d74fb"
    },
    {
      "cell_type": "markdown",
      "source": "Для более удобной работы с итерируемыми объектами мы можем использовать библиотеку `itertools`. Для этого нужно ее импортировать:",
      "metadata": {},
      "id": "f6fc0268"
    },
    {
      "cell_type": "code",
      "source": "import itertools as it\n",
      "metadata": {
        "trusted": true
      },
      "execution_count": 5,
      "outputs": [],
      "id": "40027db1"
    },
    {
      "cell_type": "code",
      "source": "for x, y, z in it.permutations(\"ABC\"):\n    print(x, y, z, sep='')",
      "metadata": {},
      "execution_count": null,
      "outputs": [],
      "id": "a2e7b20a"
    },
    {
      "cell_type": "code",
      "source": "for x, y, z in it.permutations(\"ABCD\", 3):\n    print(x, y, z, sep='', end=' ')",
      "metadata": {},
      "execution_count": null,
      "outputs": [],
      "id": "34109753"
    },
    {
      "cell_type": "markdown",
      "source": "**Упражнение:**\nВычислите с помощью `it.permutation` $C_{12}^{5}$",
      "metadata": {},
      "id": "860da4be"
    },
    {
      "cell_type": "code",
      "source": "m=0\nfor x, y, z, a, b in it.combinations(\"ABCDEFGHIJKL\", 5):\n    m+=1\nprint(m)",
      "metadata": {
        "trusted": true
      },
      "execution_count": 12,
      "outputs": [
        {
          "name": "stdout",
          "text": "792\n",
          "output_type": "stream"
        }
      ],
      "id": "b43dcc6b"
    },
    {
      "cell_type": "code",
      "source": "for x, y in it.combinations(\"ABCDE\", 2):\n    print(x, y, sep='', end=' ')",
      "metadata": {
        "trusted": true
      },
      "execution_count": 6,
      "outputs": [
        {
          "name": "stdout",
          "text": "AB AC AD AE BC BD BE CD CE DE ",
          "output_type": "stream"
        }
      ],
      "id": "5b112ac3"
    },
    {
      "cell_type": "code",
      "source": "for x, y in it.combinations_with_replacement(\"ABCDE\", 2):\n    print(x, y, sep='', end=' ')",
      "metadata": {
        "trusted": true
      },
      "execution_count": 7,
      "outputs": [
        {
          "name": "stdout",
          "text": "AA AB AC AD AE BB BC BD BE CC CD CE DD DE EE ",
          "output_type": "stream"
        }
      ],
      "id": "154afae1"
    },
    {
      "cell_type": "code",
      "source": "for a in it.chain(\"мама\", \"мыла\", \"раму\"):\n    print(a, end=' ')",
      "metadata": {
        "trusted": true
      },
      "execution_count": 13,
      "outputs": [
        {
          "name": "stdout",
          "text": "м а м а м ы л а р а м у ",
          "output_type": "stream"
        }
      ],
      "id": "9a7ad207"
    },
    {
      "cell_type": "code",
      "source": "for a in it.chain([5, 4, 3], [3, 4, 5], [[3, 4, 5]]):\n    print(a, end=' ')",
      "metadata": {
        "trusted": true
      },
      "execution_count": 14,
      "outputs": [
        {
          "name": "stdout",
          "text": "5 4 3 3 4 5 [3, 4, 5] ",
          "output_type": "stream"
        }
      ],
      "id": "72c4e409"
    },
    {
      "cell_type": "code",
      "source": "for n, s in it.product(\"wxyz\", \"ABC\"):\n    print(n, s)",
      "metadata": {},
      "execution_count": null,
      "outputs": [],
      "id": "950eed61"
    },
    {
      "cell_type": "markdown",
      "source": "**Упражнение:**\nВведите 2 списка (координаты вектора `a` и координаты вектора `b`) и найдите скалярное произведение этих векторов, используя `zip` или что-нибудь из `itertools`.",
      "metadata": {},
      "id": "6b925d3f"
    },
    {
      "cell_type": "code",
      "source": "a=[1,2,3]\nb=[4,0,2]\ns=0\nfor x,y in zip(a,b):\n    s+=x*y\nprint(s)",
      "metadata": {
        "trusted": true
      },
      "execution_count": 15,
      "outputs": [
        {
          "name": "stdout",
          "text": "10\n",
          "output_type": "stream"
        }
      ],
      "id": "80086fe0"
    },
    {
      "cell_type": "code",
      "source": "",
      "metadata": {},
      "execution_count": null,
      "outputs": [],
      "id": "ee1855ba-10c7-47ce-a221-06aadd748cfd"
    }
  ]
}